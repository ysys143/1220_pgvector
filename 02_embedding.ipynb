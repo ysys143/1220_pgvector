{
 "cells": [
  {
   "cell_type": "code",
   "execution_count": 1,
   "metadata": {},
   "outputs": [],
   "source": [
    "import psycopg2\n",
    "import numpy as np\n",
    "from langchain.embeddings import OpenAIEmbeddings"
   ]
  },
  {
   "cell_type": "code",
   "execution_count": 2,
   "metadata": {},
   "outputs": [],
   "source": [
    "# texts for content\n",
    "texts = [\n",
    "    \"Type: Desktop, OS: Ubuntu, GPU: NVIDIA, CPU: AMD, RAM: 64GB, SSD: 2TB\",\n",
    "    \"Type: Desktop, OS: Linux Mint, GPU: NVIDIA, CPU: AMD, RAM: 64GB, SSD: 2TB\",\n",
    "    \"Type: Desktop, OS: Manjaro, GPU: NVIDIA, CPU: AMD, RAM: 64GB, SSD: 2TB\",\n",
    "    \"Type: Desktop, OS: Windows, GPU: NVIDIA, CPU: AMD, RAM: 64GB, SSD: 2TB\",\n",
    "    \"Type: Desktop, OS: Fedora, GPU: AMD, CPU: AMD, RAM: 16GB, SSD: 1TB\",\n",
    "    \"Type: Desktop, OS: Windows, GPU: NVIDIA, CPU: AMD, RAM: 16GB, SSD: 1TB\",\n",
    "    \"Type: Desktop, OS: Ubuntu, GPU: AMD, CPU: AMD, RAM: 32GB, SSD: 1TB\",\n",
    "    \"Type: Laptop, OS: Windows, GPU: NVIDIA, CPU: Intel, RAM: 16GB, SSD: 1TB\",\n",
    "    \"Type: Laptop, OS: Ubuntu, GPU: AMD, CPU: AMD, RAM: 16GB, SSD: 500GB\",\n",
    "    \"Type: Laptop, OS: Mac OS, GPU: NVIDIA, CPU: AMD, RAM: 16GB, SSD: 1TB\"\n",
    "]\n",
    "\n",
    "def show_items(rows):\n",
    "    for row in rows:\n",
    "        print(row)\n",
    "    print(\"-\"*50)"
   ]
  },
  {
   "cell_type": "markdown",
   "metadata": {},
   "source": [
    "### OpenAI Embedding"
   ]
  },
  {
   "cell_type": "code",
   "execution_count": 3,
   "metadata": {},
   "outputs": [
    {
     "name": "stderr",
     "output_type": "stream",
     "text": [
      "/var/folders/hw/9m3g7fvn4_l3rp2y473km9sm0000gn/T/ipykernel_5666/2979364916.py:4: LangChainDeprecationWarning: The class `OpenAIEmbeddings` was deprecated in LangChain 0.0.9 and will be removed in 1.0. An updated version of the class exists in the :class:`~langchain-openai package and should be used instead. To use it run `pip install -U :class:`~langchain-openai` and import as `from :class:`~langchain_openai import OpenAIEmbeddings``.\n",
      "  embeddings = OpenAIEmbeddings()\n"
     ]
    }
   ],
   "source": [
    "# OpenAI 임베딩 사용\n",
    "import os\n",
    "os.environ['OPENAI_API_KEY'] = open('API_KEY', 'r').read()\n",
    "embeddings = OpenAIEmbeddings()"
   ]
  },
  {
   "cell_type": "code",
   "execution_count": 4,
   "metadata": {},
   "outputs": [],
   "source": [
    "# embeddings_list에 텍스트의 순서와 동일하게 임베딩을 생성해서 저장\n",
    "embeddings_list = []\n",
    "\n",
    "for text in texts:\n",
    "    embeddings_list.append(embeddings.embed_query(text))\n",
    "\n",
    "emb_dim = len(embeddings_list[0])\n",
    "\n",
    "# PG에 연결\n",
    "conn = psycopg2.connect(host='localhost', dbname='my_vec_db',user='jaesolshin',port=5432)\n",
    "cursor = conn.cursor()\n",
    "\n",
    "# computer_spec라는 이름의 테이블 생성\n",
    "# embedding vector열은 emb_dim 차원의 벡터\n",
    "cursor.execute(\"DROP TABLE IF EXISTS computer_spec;\")\n",
    "cursor.execute(\"CREATE TABLE IF NOT EXISTS computer_spec (id serial primary key, content text, embedding vector({}));\".format(emb_dim))\n",
    "\n",
    "# content와 embedding을 짝지워 INSERT\n",
    "for content, embedding in zip(texts, embeddings_list):\n",
    "    cursor.execute(\"INSERT INTO computer_spec (content, embedding) VALUES (%s, %s)\", (content, embedding))\n",
    "\n",
    "# PG에 커밋\n",
    "conn.commit()"
   ]
  },
  {
   "cell_type": "code",
   "execution_count": 5,
   "metadata": {},
   "outputs": [],
   "source": [
    "\n",
    "conn = psycopg2.connect(host='localhost', dbname='my_vec_db',user='jaesolshin',port=5432)\n",
    "cursor = conn.cursor()\n"
   ]
  },
  {
   "cell_type": "code",
   "execution_count": 6,
   "metadata": {},
   "outputs": [
    {
     "name": "stdout",
     "output_type": "stream",
     "text": [
      "(5, 'Type: Desktop, OS: Fedora, GPU: AMD, CPU: AMD, RAM: 16GB, SSD: 1TB')\n",
      "(2, 'Type: Desktop, OS: Linux Mint, GPU: NVIDIA, CPU: AMD, RAM: 64GB, SSD: 2TB')\n",
      "(9, 'Type: Laptop, OS: Ubuntu, GPU: AMD, CPU: AMD, RAM: 16GB, SSD: 500GB')\n",
      "(3, 'Type: Desktop, OS: Manjaro, GPU: NVIDIA, CPU: AMD, RAM: 64GB, SSD: 2TB')\n",
      "(7, 'Type: Desktop, OS: Ubuntu, GPU: AMD, CPU: AMD, RAM: 32GB, SSD: 1TB')\n",
      "--------------------------------------------------\n"
     ]
    }
   ],
   "source": [
    "# 자연어 쿼리와 임베딩 벡터\n",
    "query_text = \"Redhat\"\n",
    "query_embedding = embeddings.embed_query(query_text)\n",
    "\n",
    "# query_embedding과 L2거리 기준으로 유사한 행을 5개 찾아서 반환\n",
    "cursor.execute(\"\"\"SELECT id, content\n",
    "FROM computer_spec\n",
    "ORDER BY embedding <-> %s::vector\n",
    "LIMIT 5\n",
    "\"\"\", (query_embedding,))\n",
    "\n",
    "# results에 쿼리 결과를 저장하고 show()를 통해 확인\n",
    "results = cursor.fetchall()\n",
    "show_items(results)\n",
    "\n",
    "# PG 연결 해제\n",
    "cursor.close()\n",
    "conn.close()"
   ]
  },
  {
   "cell_type": "markdown",
   "metadata": {},
   "source": [
    "### SentenceTransformer Embedding"
   ]
  },
  {
   "cell_type": "code",
   "execution_count": 7,
   "metadata": {},
   "outputs": [
    {
     "name": "stderr",
     "output_type": "stream",
     "text": [
      "/Users/jaesolshin/Documents/GitHub/pgvector-python/venv/lib/python3.12/site-packages/tqdm/auto.py:21: TqdmWarning: IProgress not found. Please update jupyter and ipywidgets. See https://ipywidgets.readthedocs.io/en/stable/user_install.html\n",
      "  from .autonotebook import tqdm as notebook_tqdm\n"
     ]
    },
    {
     "name": "stdout",
     "output_type": "stream",
     "text": [
      "384\n"
     ]
    }
   ],
   "source": [
    "import psycopg2\n",
    "from sentence_transformers import SentenceTransformer\n",
    "\n",
    "# embedding model 정의\n",
    "model = SentenceTransformer('all-MiniLM-L6-v2')\n",
    "\n",
    "# 텍스트 임베딩\n",
    "embeddings = model.encode(texts).tolist()\n",
    "emb_dim2 = len(embeddings[0])\n",
    "print(emb_dim2)"
   ]
  },
  {
   "cell_type": "code",
   "execution_count": 8,
   "metadata": {},
   "outputs": [],
   "source": [
    "# PG 연결\n",
    "conn = psycopg2.connect(host='localhost', dbname='my_vec_db',user='jaesolshin',port=5432) \n",
    "cursor = conn.cursor()\n",
    "\n",
    "# embedding2 열 추가\n",
    "cursor.execute(\"ALTER TABLE computer_spec ADD COLUMN IF NOT EXISTS embedding2 vector(%s)\", (emb_dim2,))\n",
    "\n",
    "# content와 embedding2를 짝지워 INSERT\n",
    "for content, embedding in zip(texts, embeddings):\n",
    "    cursor.execute('INSERT INTO computer_spec (content, embedding2) VALUES (%s, %s)', (content, embedding))"
   ]
  },
  {
   "cell_type": "code",
   "execution_count": 9,
   "metadata": {},
   "outputs": [
    {
     "name": "stdout",
     "output_type": "stream",
     "text": [
      "(11, 'Type: Desktop, OS: Ubuntu, GPU: NVIDIA, CPU: AMD, RAM: 64GB, SSD: 2TB')\n",
      "(14, 'Type: Desktop, OS: Windows, GPU: NVIDIA, CPU: AMD, RAM: 64GB, SSD: 2TB')\n",
      "(16, 'Type: Desktop, OS: Windows, GPU: NVIDIA, CPU: AMD, RAM: 16GB, SSD: 1TB')\n",
      "(17, 'Type: Desktop, OS: Ubuntu, GPU: AMD, CPU: AMD, RAM: 32GB, SSD: 1TB')\n",
      "(18, 'Type: Laptop, OS: Windows, GPU: NVIDIA, CPU: Intel, RAM: 16GB, SSD: 1TB')\n",
      "--------------------------------------------------\n"
     ]
    }
   ],
   "source": [
    "# 자연어 쿼리와 임베딩 벡터\n",
    "query_text = \"Type: Desktop, OS: Arch Linux, GPU: NVIDA, CPU: AMD, RAM: 64GB, SSD: 2TB\"\n",
    "query_embedding2 = model.encode(texts).tolist()[0]\n",
    "\n",
    "# query_embedding과 L2거리 기준으로 유사한 행을 5개 찾아서 반환\n",
    "cursor.execute(\"\"\"SELECT id, content\n",
    "FROM computer_spec\n",
    "ORDER BY embedding2 <-> %s::vector\n",
    "LIMIT 5\n",
    "\"\"\", (query_embedding2,))\n",
    "\n",
    "# results에 쿼리 결과를 저장하고 show()를 통해 확인\n",
    "results = cursor.fetchall()\n",
    "show_items(results)"
   ]
  },
  {
   "cell_type": "code",
   "execution_count": 10,
   "metadata": {},
   "outputs": [
    {
     "name": "stdout",
     "output_type": "stream",
     "text": [
      "('Type: Desktop, OS: Manjaro, GPU: NVIDIA, CPU: AMD, RAM: 64GB, SSD: 2TB',)\n",
      "('Type: Desktop, OS: Windows, GPU: NVIDIA, CPU: AMD, RAM: 64GB, SSD: 2TB',)\n",
      "('Type: Desktop, OS: Fedora, GPU: AMD, CPU: AMD, RAM: 16GB, SSD: 1TB',)\n",
      "('Type: Desktop, OS: Windows, GPU: NVIDIA, CPU: AMD, RAM: 16GB, SSD: 1TB',)\n",
      "('Type: Desktop, OS: Linux Mint, GPU: NVIDIA, CPU: AMD, RAM: 64GB, SSD: 2TB',)\n",
      "--------------------------------------------------\n"
     ]
    }
   ],
   "source": [
    "# \n",
    "document_id = 1\n",
    "cursor.execute(\"\"\"SELECT content \n",
    "FROM computer_spec\n",
    "WHERE id != %(id)s \n",
    "ORDER BY\n",
    "    embedding2 \n",
    "    <=> (\n",
    "        SELECT embedding2\n",
    "        FROM computer_spec \n",
    "        WHERE id = %(id)s\n",
    "        LIMIT 1\n",
    "        ) \n",
    "LIMIT 5\"\"\", {'id': document_id})\n",
    "               \n",
    "results = cursor.fetchall()\n",
    "show_items(results)\n",
    "\n",
    "# PG 연결 해제\n",
    "cursor.close()\n",
    "conn.close()"
   ]
  }
 ],
 "metadata": {
  "kernelspec": {
   "display_name": "venv",
   "language": "python",
   "name": "python3"
  },
  "language_info": {
   "codemirror_mode": {
    "name": "ipython",
    "version": 3
   },
   "file_extension": ".py",
   "mimetype": "text/x-python",
   "name": "python",
   "nbconvert_exporter": "python",
   "pygments_lexer": "ipython3",
   "version": "3.12.4"
  }
 },
 "nbformat": 4,
 "nbformat_minor": 2
}
