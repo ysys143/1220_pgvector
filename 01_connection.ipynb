{
 "cells": [
  {
   "cell_type": "markdown",
   "metadata": {},
   "source": [
    "### 데이터베이스 연결 및 조작"
   ]
  },
  {
   "cell_type": "code",
   "execution_count": 1,
   "metadata": {},
   "outputs": [
    {
     "name": "stdout",
     "output_type": "stream",
     "text": [
      "[(1, 100, 'abcdef'), (2, 100, 'abcdef')]\n"
     ]
    }
   ],
   "source": [
    "import psycopg2\n",
    "\n",
    "# 데이터베이스 연결\n",
    "conn = psycopg2.connect(host='localhost', dbname='my_vec_db',user='jaesolshin',port=5432) # 연결객체\n",
    "\n",
    "cursor = conn.cursor() # 작업객체\n",
    "\n",
    "cursor.execute(\"CREATE TABLE IF NOT EXISTS test (id serial PRIMARY KEY, num integer, data varchar);\") # 테이블 생성\n",
    "cursor.execute(\"INSERT INTO test (num, data) VALUES (%s, %s)\", (100, \"abcdef\")) # 데이터 삽입\n",
    "cursor.execute(\"select * from test;\") # 쿼리 실행\n",
    "\n",
    "print(cursor.fetchall()) # 모든 행을 가져와 출력합니다. cursor.fetchone(), cursor.fetchone(3)\n",
    "\n",
    "conn.commit()\n",
    "conn.close()"
   ]
  },
  {
   "cell_type": "code",
   "execution_count": 2,
   "metadata": {},
   "outputs": [],
   "source": [
    "conn = psycopg2.connect(host='localhost', dbname='my_vec_db',user='jaesolshin',port=5432) # 연결객체\n",
    "cursor = conn.cursor()\n",
    "\n",
    "cursor.execute(\"DROP TABLE IF EXISTS test;\")\n",
    "\n",
    "# conn.commit()\n",
    "conn.close()"
   ]
  },
  {
   "cell_type": "code",
   "execution_count": 3,
   "metadata": {},
   "outputs": [
    {
     "name": "stdout",
     "output_type": "stream",
     "text": [
      "(1, '[1,2,3]')\n",
      "(2, '[4,5,6]')\n",
      "--------------------------------------------------\n",
      "(1, '[1,2,3]', 2.23606797749979)\n",
      "(2, '[4,5,6]', 7.0710678118654755)\n",
      "--------------------------------------------------\n"
     ]
    }
   ],
   "source": [
    "def show_items(rows):\n",
    "    for row in rows:\n",
    "        print(row)\n",
    "    print(\"-\"*50)\n",
    "\n",
    "conn = psycopg2.connect(host='localhost', dbname='my_vec_db',user='jaesolshin',port=5432) # 연결객체\n",
    "cursor = conn.cursor()\n",
    "\n",
    "cursor.execute(\"SELECT * FROM items;\")\n",
    "show_items(cursor.fetchall())\n",
    "\n",
    "cursor.execute(\"SELECT *, embedding <-> '[1,1,1]' AS L2 FROM items ORDER BY L2 LIMIT 5;\")\n",
    "show_items(cursor.fetchall())\n",
    "\n",
    "conn.close()"
   ]
  },
  {
   "cell_type": "markdown",
   "metadata": {},
   "source": [
    "### 무작위 벡터 삽입"
   ]
  },
  {
   "cell_type": "code",
   "execution_count": 4,
   "metadata": {},
   "outputs": [
    {
     "data": {
      "text/plain": [
       "array([[-0.37861862, -2.04965323, -1.72553916,  1.27299132, -0.21074173],\n",
       "       [ 0.1406984 , -0.43985981, -0.10925659, -1.22730744,  0.04562907],\n",
       "       [-2.29232094,  0.47463031,  0.90942389,  2.13287989, -2.76614894],\n",
       "       [-0.41944542,  1.00630069, -1.35412563, -0.10537534,  0.75007022],\n",
       "       [ 0.17224844,  0.36601097,  0.66658565, -0.14565509,  0.28451986],\n",
       "       [-0.46745956, -0.48037994, -1.67375843,  0.4214595 , -0.9116874 ],\n",
       "       [-0.55323478,  0.38511212,  1.90185414, -0.19315131, -0.51533999],\n",
       "       [-0.21200342,  0.35358292, -0.78109513,  1.50956701, -0.76630032],\n",
       "       [-1.29078538,  0.66690273, -0.67548623,  0.50326409, -0.35064311],\n",
       "       [ 1.08737223,  1.79720239, -0.81917937, -0.80967003, -0.32665767]])"
      ]
     },
     "execution_count": 4,
     "metadata": {},
     "output_type": "execute_result"
    }
   ],
   "source": [
    "import numpy as np\n",
    "\n",
    "# 벡터 생성\n",
    "example_vectors = np.random.randn(10,5)\n",
    "example_vectors"
   ]
  },
  {
   "cell_type": "code",
   "execution_count": 5,
   "metadata": {},
   "outputs": [],
   "source": [
    "import psycopg2\n",
    "\n",
    "conn = psycopg2.connect(host='localhost', dbname='my_vec_db',user='jaesolshin',port=5432) # 연결객체\n",
    "cursor = conn.cursor()\n",
    "\n",
    "# 테이블 생성\n",
    "cursor.execute(\"CREATE TABLE IF NOT EXISTS vectors (id bigserial PRIMARY KEY, embedding vector(5));\")\n",
    "\n",
    "# 벡터 삽입\n",
    "for vector in example_vectors:\n",
    "    cursor.execute(\n",
    "        \"INSERT INTO vectors (embedding) VALUES (%s)\", \n",
    "        (vector.tolist(),)  # numpy 배열을 Python 리스트로 변환\n",
    "    )\n",
    "\n",
    "# 커밋\n",
    "conn.commit()"
   ]
  },
  {
   "cell_type": "code",
   "execution_count": 6,
   "metadata": {},
   "outputs": [
    {
     "name": "stdout",
     "output_type": "stream",
     "text": [
      "\n",
      "All Rows:\n",
      "(1, '[-0.9562891,-0.759813,0.59435976,0.0077875503,-0.80438113]')\n",
      "(2, '[-1.2348526,0.6862422,-0.6120079,0.49805138,0.008737438]')\n",
      "(3, '[0.0240263,1.2761552,1.1962513,0.65458846,-1.3365945]')\n",
      "(4, '[0.6180711,-0.10998694,0.44672072,0.6442783,1.2122089]')\n",
      "(5, '[0.17362301,-0.08542972,-0.4284525,1.0409049,0.18013716]')\n",
      "(6, '[0.4827253,-0.37992033,-1.4451149,-1.7272892,-0.76796126]')\n",
      "(7, '[-0.20629711,0.055571597,-1.2165215,0.29449007,0.23211904]')\n",
      "(8, '[-1.8292468,1.0811973,1.0158238,0.6767827,0.9377151]')\n",
      "(9, '[-0.30108055,-0.12144249,0.42995632,-0.41742995,-0.61486197]')\n",
      "(10, '[0.4043061,-0.6895977,0.7050093,0.9187715,0.9954731]')\n",
      "(11, '[-0.37861863,-2.0496533,-1.7255392,1.2729913,-0.21074173]')\n",
      "(12, '[0.1406984,-0.4398598,-0.109256595,-1.2273074,0.045629073]')\n",
      "(13, '[-2.292321,0.4746303,0.9094239,2.13288,-2.766149]')\n",
      "(14, '[-0.41944543,1.0063007,-1.3541256,-0.105375335,0.7500702]')\n",
      "(15, '[0.17224844,0.36601096,0.6665856,-0.1456551,0.28451985]')\n",
      "(16, '[-0.46745956,-0.48037994,-1.6737584,0.4214595,-0.9116874]')\n",
      "(17, '[-0.55323476,0.38511214,1.9018542,-0.19315131,-0.51534]')\n",
      "(18, '[-0.21200342,0.35358292,-0.78109515,1.509567,-0.7663003]')\n",
      "(19, '[-1.2907854,0.6669027,-0.6754862,0.50326407,-0.3506431]')\n",
      "(20, '[1.0873722,1.7972023,-0.81917936,-0.80967003,-0.32665768]')\n",
      "--------------------------------------------------\n"
     ]
    }
   ],
   "source": [
    "# 삽입 확인\n",
    "cursor.execute(\"SELECT * FROM vectors;\")\n",
    "results = cursor.fetchall()\n",
    "\n",
    "print('\\nAll Rows:')\n",
    "show_items(results)"
   ]
  },
  {
   "cell_type": "code",
   "execution_count": 7,
   "metadata": {},
   "outputs": [
    {
     "name": "stdout",
     "output_type": "stream",
     "text": [
      "\n",
      "Retrieved Rows:\n",
      "(15, '[0.17224844,0.36601096,0.6665856,-0.1456551,0.28451985]')\n",
      "(20, '[1.0873722,1.7972023,-0.81917936,-0.80967003,-0.32665768]')\n",
      "(4, '[0.6180711,-0.10998694,0.44672072,0.6442783,1.2122089]')\n",
      "(12, '[0.1406984,-0.4398598,-0.109256595,-1.2273074,0.045629073]')\n",
      "(10, '[0.4043061,-0.6895977,0.7050093,0.9187715,0.9954731]')\n",
      "--------------------------------------------------\n"
     ]
    }
   ],
   "source": [
    "# 벡터 검색\n",
    "test_vec = np.random.randn(1,5)\n",
    "test_vec_list = test_vec.squeeze().tolist()\n",
    "\n",
    "cursor.execute(\"SELECT * FROM vectors ORDER BY embedding <-> '{}' LIMIT 5\".format(test_vec_list))\n",
    "results = cursor.fetchall()\n",
    "\n",
    "print('\\nRetrieved Rows:')\n",
    "show_items(results)\n",
    "\n",
    "# 연결 종료\n",
    "cursor.close()\n",
    "conn.close()"
   ]
  }
 ],
 "metadata": {
  "kernelspec": {
   "display_name": "venv",
   "language": "python",
   "name": "python3"
  },
  "language_info": {
   "codemirror_mode": {
    "name": "ipython",
    "version": 3
   },
   "file_extension": ".py",
   "mimetype": "text/x-python",
   "name": "python",
   "nbconvert_exporter": "python",
   "pygments_lexer": "ipython3",
   "version": "3.12.4"
  }
 },
 "nbformat": 4,
 "nbformat_minor": 2
}
