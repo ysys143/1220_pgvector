{
 "cells": [
  {
   "cell_type": "markdown",
   "metadata": {},
   "source": [
    "langchain pgvector\n",
    "https://python.langchain.com/docs/integrations/vectorstores/pgvector/"
   ]
  },
  {
   "cell_type": "code",
   "execution_count": 83,
   "metadata": {},
   "outputs": [],
   "source": [
    "# OpenAI 임베딩 사용\n",
    "import os\n",
    "os.environ['OPENAI_API_KEY'] = open('API_KEY', 'r').read()"
   ]
  },
  {
   "cell_type": "markdown",
   "metadata": {},
   "source": [
    "## Vector DB setting"
   ]
  },
  {
   "cell_type": "code",
   "execution_count": 84,
   "metadata": {},
   "outputs": [],
   "source": [
    "from langchain_postgres import PGVector\n",
    "from langchain_postgres.vectorstores import PGVector\n",
    "from langchain_openai import OpenAIEmbeddings\n",
    "\n",
    "connection=f\"postgresql+psycopg://postgres@localhost:5432/my_vec_db\"\n",
    "collection_name = \"kb_insure\"\n",
    "\n",
    "vector_store = PGVector(\n",
    "    embeddings=OpenAIEmbeddings(model=\"text-embedding-3-large\"),\n",
    "    collection_name=collection_name,\n",
    "    connection=connection,\n",
    "    use_jsonb=True,\n",
    ")"
   ]
  },
  {
   "cell_type": "markdown",
   "metadata": {},
   "source": [
    "## PDF 기반 질의 응답(Question-Answering)Permalink"
   ]
  },
  {
   "cell_type": "markdown",
   "metadata": {},
   "source": [
    "데이터로드"
   ]
  },
  {
   "cell_type": "code",
   "execution_count": 85,
   "metadata": {},
   "outputs": [
    {
     "data": {
      "text/plain": [
       "'KB개인상해보험'"
      ]
     },
     "execution_count": 85,
     "metadata": {},
     "output_type": "execute_result"
    }
   ],
   "source": [
    "from langchain.document_loaders import PyPDFLoader\n",
    "\n",
    "# 약관문서 샘플 : https://www.kbinsure.co.kr/CG802030002.ec\n",
    "# 20240401 일자 버전.\n",
    "# PDF 파일 로드\n",
    "loader = PyPDFLoader(\"/Users/jaesolshin/Documents/GitHub/pg_test/data/20240401_15101_1.pdf\")\n",
    "document = loader.load()\n",
    "document[0].page_content[:200] # 내용 추출"
   ]
  },
  {
   "cell_type": "markdown",
   "metadata": {},
   "source": [
    "데이터분할"
   ]
  },
  {
   "cell_type": "code",
   "execution_count": 86,
   "metadata": {},
   "outputs": [],
   "source": [
    "from langchain.text_splitter import CharacterTextSplitter\n",
    "\n",
    "text_splitter = CharacterTextSplitter(chunk_size=1000, chunk_overlap=50)\n",
    "texts = text_splitter.split_documents(document)"
   ]
  },
  {
   "cell_type": "code",
   "execution_count": 87,
   "metadata": {},
   "outputs": [
    {
     "data": {
      "text/plain": [
       "203"
      ]
     },
     "execution_count": 87,
     "metadata": {},
     "output_type": "execute_result"
    }
   ],
   "source": [
    "len(texts)"
   ]
  },
  {
   "cell_type": "markdown",
   "metadata": {},
   "source": [
    "벡터스토어에 저장"
   ]
  },
  {
   "cell_type": "code",
   "execution_count": 88,
   "metadata": {},
   "outputs": [
    {
     "data": {
      "text/plain": [
       "['6b022c37-6a3c-4ef7-bd0e-53a2dc11e6ba',\n",
       " 'ab6d5cae-70c9-4b5d-9770-f0d81d742417',\n",
       " '521430ce-139d-4192-ab55-8d3b05dba37a',\n",
       " '2343bdf0-02fb-486a-b536-390626545f1e',\n",
       " '0c33ba80-aa35-4a4f-ad2d-a26538cc6941',\n",
       " '2ee9559c-e77f-441f-abd3-4e8a5eb01243',\n",
       " 'eadab098-8df5-4307-a092-6b1a39a13af2',\n",
       " '27af625d-5c3d-449b-bfbe-c881134b585f',\n",
       " 'bf2ab40c-bf2a-4079-9c6f-224c7efcd6f0',\n",
       " '4aea0f72-17a0-4f65-901e-ff06422e7204',\n",
       " '88f4ac68-5575-446d-85b9-84a2fd742152',\n",
       " 'd9d5baa8-ed67-4d24-9d87-7749d2ecc400',\n",
       " '05e35f72-e8eb-4723-bceb-d7e053d2ea5e',\n",
       " '49b1859c-9c26-41a3-abcc-64239b3a404a',\n",
       " 'c960bf67-4750-4a91-8c6b-760e63edfc20',\n",
       " '5cc47c5e-6f7a-4f0c-bdcc-198ed261ee2d',\n",
       " '4ac1a755-83fa-4019-afff-71cee056fa6d',\n",
       " '3f259f07-272d-4e8c-9cac-5e409f2b2d6d',\n",
       " 'b697e9c1-a78e-4133-9477-c87b7214eb0b',\n",
       " '7d88f9c9-063a-426c-a89f-e8b9c02901b7',\n",
       " 'dc87327e-ea3c-4658-8dc5-5a030855fd3b',\n",
       " '6ea7a0d8-4ddd-4042-a213-d0c39e941737',\n",
       " '39af4fd1-e11b-4954-be7d-7c77c0b574be',\n",
       " 'c640465a-9d0e-472b-ace3-e23d8ddd9f11',\n",
       " 'ce191f28-2364-45e5-828e-4acce7968757',\n",
       " '357234a8-f144-49ad-8f01-aa36173a0909',\n",
       " 'bf6ec385-074c-414e-a8d3-94aace2d1c29',\n",
       " '122a07de-c384-4893-bfab-28cbde488101',\n",
       " '7553bdf7-2a27-4830-8e48-11e97ce856e8',\n",
       " 'cdd5acab-660b-441e-ab33-0b636eb34ec6',\n",
       " '23f66579-4354-4210-b319-48ddc2dfdcca',\n",
       " 'c36456e0-3643-4c41-9214-81266d09ec37',\n",
       " '098ffb6a-dcb9-46a4-b53f-860d5496d0c2',\n",
       " '5abb3086-6cc7-4400-8694-1e2555555d78',\n",
       " '0f69bf61-5ac8-4c1f-9075-6896c905509e',\n",
       " '016a6ed8-0ddf-4e30-8c24-af8021e311ab',\n",
       " 'a8853983-e2a0-4177-bad7-8ed981bbd7f4',\n",
       " '3904d98f-5f04-4669-85cb-9554c51a13ae',\n",
       " '12abe613-d1a0-4d1c-a6b6-54244f2803eb',\n",
       " 'de1b4be6-68eb-44a7-9af6-0f6abd8a5dcb',\n",
       " 'af6a064a-0602-4bcf-8834-d4492f1106e2',\n",
       " '0a8ed354-e64e-4b92-9154-843dc59753b6',\n",
       " 'ac65b0d9-1404-459b-a514-bcc07b4ad551',\n",
       " '39520f77-9174-40e0-89d2-1708ec3b1aa7',\n",
       " '209340a5-db6d-47bf-89aa-a692bc514e14',\n",
       " '1469f653-6a08-49b3-a121-6dadd58e0a1f',\n",
       " 'f3675062-912c-4da0-8287-7860e0ea19bd',\n",
       " '463b2959-b1e5-4101-9ee2-2c3ae3506eab',\n",
       " 'e403909e-b5fd-4fa0-a1f5-70ec96ab3231',\n",
       " 'eaaf57ea-feb4-4bd2-a59e-dd172f92f21f',\n",
       " '68b553b0-51a9-49fd-8a3b-d132e2259e00',\n",
       " '2e2ab6a6-4abf-4ae1-9c07-9e9f265fd7d2',\n",
       " '97c1c2a8-d047-43c1-856f-4026d863e07e',\n",
       " 'f2d5e4ba-bd3f-4dfd-bf06-3ef837f755f5',\n",
       " 'cf3a347e-40b4-4f77-95f5-3a6f113006a3',\n",
       " 'd1c4798e-5ab5-420d-bbd2-2dc8443e8bed',\n",
       " '705e5b06-2cae-4568-8ee2-ad2607229280',\n",
       " '0247a299-de29-484e-bfaa-7c8e9b9e2133',\n",
       " 'd16a0ed8-5dd9-4095-9146-1ed3076af823',\n",
       " 'dfb3792d-eb87-4846-bf14-382f5c375817',\n",
       " '3e4f171f-31d4-4161-a7c4-49f8b436ca9a',\n",
       " '3842dd9f-1423-4196-a7e2-b730cd86e534',\n",
       " '7451757c-9889-445b-8f34-50c7b6be0b90',\n",
       " 'c349611c-b02d-468d-b0f2-efc034303856',\n",
       " 'fe63e08b-3440-4b7d-ba4b-2518b92628e3',\n",
       " '6c42453c-58eb-4c80-a573-0d6f247df16a',\n",
       " '394fac6a-5228-4bf6-94b0-c6fbab4b3109',\n",
       " '1b1a0b27-f5f5-49d7-b095-6d0402d49905',\n",
       " 'f6610b1e-f3a6-4f55-bfa0-ab2e438e41b8',\n",
       " '1072582d-cfed-496e-a5de-645997a686a3',\n",
       " 'e67efb51-1aab-439b-851a-669e985f9519',\n",
       " 'a0612b28-36f1-4e29-8c86-d0ca4e11c7ce',\n",
       " 'a58ca857-fb69-41f7-8141-25179bff3dbd',\n",
       " 'd1b03b30-89c0-4c41-b0be-c4e716e41e0d',\n",
       " 'fa362169-fc23-4453-9727-9212dda1d907',\n",
       " 'cbbc7083-f935-4700-9df2-f2aab9592d1a',\n",
       " 'd666e946-12f9-4fed-8741-fcd1257b1be2',\n",
       " 'adf9e3e8-e250-4ca3-a505-871e99a9518c',\n",
       " 'b973ecf8-1144-4193-88e0-15b258fc11c9',\n",
       " '989cb5ad-a179-4a76-bd0a-7f892e1612b5',\n",
       " 'd37a1363-5470-4401-bdaf-5054f7d3286d',\n",
       " 'b6c55928-182b-41cb-a579-f7ac9769ee84',\n",
       " '25c99774-e6e8-4045-ba97-4a73c5d0477f',\n",
       " 'a8873f94-7631-41dc-b938-0fb51c1b2a31',\n",
       " '5870e319-4d7f-4645-b533-c8f067108293',\n",
       " '248ae6db-0760-41d6-8b6d-772e427ffc03',\n",
       " 'fdc09eb7-91ee-4ebe-b967-d4050e61e41a',\n",
       " '103fc3ff-aef6-442d-b025-72bb3eef70ae',\n",
       " '30236c99-fb77-4294-b9bf-e78522a54749',\n",
       " '84369436-f30b-481f-9df5-6d5877f3cdea',\n",
       " 'ee56eec8-3323-42a2-a011-2cbc0a0963e3',\n",
       " '82d73089-a83a-4a07-bf76-1c632faa1d1e',\n",
       " '9d82a958-af20-47aa-b30d-0deb0194d678',\n",
       " '6717dba4-f836-4cc1-9621-73a1da8288ea',\n",
       " '137d2202-1af5-46d3-ac86-6ab2d7233b3c',\n",
       " 'e01610d0-ada9-430c-af70-3cfe821763c3',\n",
       " '4f0b1962-bee0-487a-9e00-ca2fdbfc970d',\n",
       " '1208065d-b4f8-4744-ae53-62830f8ef097',\n",
       " '5dbf8d00-decb-41e9-8511-724ae35068d5',\n",
       " 'd976598b-7d1d-4c1b-b15e-d2983e51954d',\n",
       " 'a34513a0-46cb-4f1d-b965-16402327eff5',\n",
       " '692ff79b-900c-4143-ac63-3119c8261438',\n",
       " 'f70c9414-5fda-4c42-ace5-40cc9371cad9',\n",
       " 'a4bedc3f-185c-4067-bbe6-cf25861ce65e',\n",
       " '5555115d-c73d-4fa8-856f-5e2f34336502',\n",
       " '9e8618ab-f799-495f-81a8-807fbf6a587e',\n",
       " 'd77a8f45-3626-4cda-b219-88ff67b90d18',\n",
       " '4014dfb4-715d-489f-914c-bb232104ab4b',\n",
       " '5634f7fc-f858-4a6c-8ef8-429292aa87a9',\n",
       " '8468f1f3-cc1f-4987-8b0c-8109c038fef0',\n",
       " '95de7ea9-a5f6-4046-bea1-d5f41a2a6539',\n",
       " '126d9dc4-4c06-4aa4-aa76-b21b1e1aad37',\n",
       " '3fe958c7-d2ba-4ad5-ad47-84cdeef7f466',\n",
       " '70be3e2c-9da4-4987-a7c1-e6bc68ef2799',\n",
       " '9fafb070-7234-49f0-9e26-8f46af2e32da',\n",
       " '19aa8bfb-9246-480b-9f6d-4e8d00b8ab7e',\n",
       " 'c15a16de-5c88-4b34-9a51-c11fdd6415b4',\n",
       " '4701406d-e775-47e3-8d73-bff27afd20fe',\n",
       " 'a6555090-7333-447a-ab5d-04bdf20e3f77',\n",
       " 'ad25a0f6-c520-4e46-a794-fd02bf718f25',\n",
       " '61c90eb9-0fde-400c-820a-bb8579e5006d',\n",
       " '44d77161-8be2-4b6c-8a74-c33270399762',\n",
       " '81d22e30-ef20-42f6-a488-c9b5624fb9dd',\n",
       " '30b2f14a-928d-498a-8e60-bc1d5fa6266b',\n",
       " 'ca107a9c-1df1-4fb6-a6c4-ab35d2c155e4',\n",
       " 'df67ed31-40dd-491d-8cbc-039e9a2772ed',\n",
       " '5f64de6a-313b-480b-9921-260a6b26cd54',\n",
       " '6c8b1119-4532-40c6-985a-440ca1be3187',\n",
       " '6690ff68-061d-4d68-ba90-efd7e56fd8e5',\n",
       " '72af15a7-0219-4a52-85a0-c0ad2b5cd236',\n",
       " '0daa1e8e-34c9-4d39-b052-8c9561be3dc9',\n",
       " '61fcac4e-7e52-471b-8c41-1ae62f5948be',\n",
       " '50a446d7-43c0-47e7-802a-2a2b0c27fe10',\n",
       " '31636132-f182-4920-bacb-0f242838163e',\n",
       " 'dd5cc482-34d0-42d3-aa22-dccf1dc7c48a',\n",
       " '5ff4d0d9-7fcc-4a12-b919-3b722cdf16eb',\n",
       " '2c552c61-7d72-4f1c-9572-8b3b6032595a',\n",
       " 'd785ecba-d6ee-4740-9791-fb1658216af0',\n",
       " '5cc24c3e-3276-4c6c-b1f2-e8d3d9e4275d',\n",
       " '4dadeb00-cd93-45b4-9e55-337c8ea1ffb8',\n",
       " '4a074e74-da2c-44e1-a51c-d8f712eb00dd',\n",
       " '3e34dec7-5827-4dd1-bbbd-818116939839',\n",
       " 'ae69faea-190b-4842-8b57-c173f1b7adc9',\n",
       " 'fc004b04-4ff7-4b15-b69f-5777c15d66d8',\n",
       " '03388daa-905c-4fa7-8e1c-2cd20de917df',\n",
       " '35fe6363-eb5b-47f1-8b6c-c5e1dd5abacb',\n",
       " '74b00012-b4be-4f0c-b3d8-3baf1f4bc3ba',\n",
       " 'fc37debf-56f2-4798-a068-89b7f654a506',\n",
       " 'f9642206-b63d-46f4-bf96-0495007b4bf5',\n",
       " 'fa9c8ac5-1442-4fc9-8cc5-6676c74bb6a5',\n",
       " 'c9f00ceb-837f-4a8e-992c-ade297b45005',\n",
       " '50af492f-3729-4823-a5b8-34ef0facba0c',\n",
       " 'f2076b0e-70fa-4f30-85fd-5d4488d2fa25',\n",
       " 'e871837c-32a8-419b-8b2f-9d6b5610d63f',\n",
       " '0dbbdbae-a4e8-4c3e-ad3c-93b09b2832ea',\n",
       " '6b6b33ae-83d6-4b11-9a7c-051220545009',\n",
       " 'b3c04404-19d6-41f5-8c3d-3b0cc1c6f3b9',\n",
       " '33aab208-3189-4b7e-87aa-940afb60bf93',\n",
       " '22b06bf1-02b5-4d79-9cb6-0b0b580ebab1',\n",
       " '243bd95f-8329-4154-a74f-749fa4be13ec',\n",
       " '28d67ec0-cfac-459f-8db6-2482f2a85ab7',\n",
       " 'd62f9cfb-012e-4dfc-9962-9324bb11196d',\n",
       " '5aebc9b8-eb77-4556-912c-9d19aa77f9cf',\n",
       " '668c83cf-55e9-463c-9e61-26354c9be43c',\n",
       " '8d221901-e263-448f-9cca-3350f8a1dffe',\n",
       " '2ca2cc0d-4be3-417d-97f7-bb950a95261c',\n",
       " '398e3b60-440c-4a6f-8ba8-9b5a49849987',\n",
       " 'e9a5160a-6b4e-4b35-8cf2-9ea9e26b6365',\n",
       " '38967b80-445d-40e8-afdc-b50796c20f24',\n",
       " 'f352e326-b4d3-4da0-83ff-7ca7c4b4138c',\n",
       " 'e9136bce-9e1d-4c60-a4f2-5d5eeee3b432',\n",
       " '5d321dc6-a346-4507-a1cc-0ad14804e6b1',\n",
       " 'b577951c-0120-492b-8548-dc103ec45b5f',\n",
       " 'aa7f3046-6237-4168-880b-efa74164b1b6',\n",
       " 'ccdef9ea-8cfc-4557-bdf6-ad8779f37f6e',\n",
       " '4d874c9c-2e04-423b-a4f1-20f24726d7e7',\n",
       " 'e4f80b00-096b-47ae-8628-c1651dfec483',\n",
       " 'e659a604-2481-42f2-b536-3f7bb41db038',\n",
       " '2bf0c59b-44d4-4327-a014-67dbfb81d9b8',\n",
       " '2b6ef27c-9e73-45ff-b073-d5723862d924',\n",
       " 'e0f06be6-d26c-470a-a9c2-1906f757a31e',\n",
       " 'b06f1cb6-678c-4c33-8452-0b9233097eab',\n",
       " 'fa8ba34b-cc8f-474a-922d-3c4e857e92f1',\n",
       " '75124e77-df99-49d5-8654-619ab41a578a',\n",
       " '4dcb5a23-b26c-43fe-b296-dfb399cdf634',\n",
       " 'e86c806f-4a42-44a5-8155-9b611414d7e1',\n",
       " '76c32b68-43d0-4a92-b66f-83988aa4b90d',\n",
       " '6c3e3204-4591-47b9-aa15-9c04f96dad9b',\n",
       " '7788c290-15d0-4d84-b9e1-1a52cecdedb0',\n",
       " '5aaf6f14-5e3d-4438-adc5-625820233628',\n",
       " 'f6213479-e13e-4eea-80ee-00922f6d5584',\n",
       " '2f5004d5-3509-40b0-89b0-cdcfdea94508',\n",
       " 'ebde203e-0fda-432b-9b38-6b4408f428ce',\n",
       " 'f0ca833b-6367-4b04-87c1-3f9c8f33a916',\n",
       " '2ded1639-7ff0-4bc1-8c19-47a0716362f3',\n",
       " 'e5b44a3a-bfbb-4a25-bb90-34ad2869f9ae',\n",
       " 'ba5c0a90-1cd1-49ef-8190-cbcb6dceb327',\n",
       " '8a71f49e-290c-46de-a1d6-d26287936ef8',\n",
       " '53f64c0c-6737-420c-97a3-1aad7d04d8d0',\n",
       " 'e5a52807-ac35-4af8-830a-ff28bc38afb6',\n",
       " 'b343ce8b-ca17-43e0-81f5-ac23bd6d6c67',\n",
       " '23e3d942-ebde-4d4a-b168-801786cc5f65',\n",
       " '3e7ac30a-15c2-44b3-9fc0-ebb647bf9954']"
      ]
     },
     "execution_count": 88,
     "metadata": {},
     "output_type": "execute_result"
    }
   ],
   "source": [
    "vector_store.add_documents(texts)"
   ]
  },
  {
   "cell_type": "markdown",
   "metadata": {},
   "source": [
    "## 벡터스토어 검색"
   ]
  },
  {
   "cell_type": "code",
   "execution_count": 89,
   "metadata": {},
   "outputs": [
    {
     "data": {
      "text/plain": [
       "[Document(id='49b1859c-9c26-41a3-abcc-64239b3a404a', metadata={'page': 13, 'source': '/Users/jaesolshin/Documents/GitHub/pg_test/data/20240401_15101_1.pdf'}, page_content='- 3 -\\n의하거나 또는 그 이전에 발생한 후유장해를 포함합니다), 후유장해보험금이 지급되지 않았던 피보험자에게 그 신체의 동일 부위에 또다시 제8항에 규정하는 후유장해상태가 발생하였을 경우에는 직전까지의 후유장해에 대한 후유장해보험금이 지급된 것으로 보고 최종 후유장해 상태에 해당되는 후유장해보험금에서 이를 차감하여 지급합니다.【사 례】이 계약의 보장개시전의 원인에 의하거나 또는 그 이전에 발생한 장해로 후유장해보험금의 지급사유가 되지 않았던 장해 :보험가입 전 한 팔의 손목관절에 심한 장해(지급률 20%)가 있었던 피보험자가 보험가입 후 상해로 그 손목관절에 기능을 완전히 잃은 경우(지급률 30%)에는 보험가입 후 발생한 상해로 인한 장해지급률 30%에서 보험가입 전 발생한 장해지급률 20%를 차감한 10%에 해당하는 후유장해보험금을 지급⑩ 회사가 지급하여야 할 하나의 상해로 인한 후유장해보험금은 보험가입금액을 한도로 합니다.제5조(보험금을 지급하지 않는 사유) ① 회사는 다음 중 어느 한가지로 보험금 지급사유가 발생한 때에는 보험금을 지급하지 않습니다. 1. 피보험자가 고의로 자신을 해친 경우. 다만, 피보험자가 심신상실 등으로 자유로운 의사결정을 할 수 없는 상태에서 자신을 해친 경우에는 보험금을 지급합니다. 2. 보험수익자가 고의로 피보험자를 해친 경우. 다만, 그 보험수익자가 보험금의 일부 보험수익자인 경우에는 다른 보험수익자에 대한 보험금은 지급합니다. 3. 계약자가 고의로 피보험자를 해친 경우 4. 피보험자의 임신, 출산(제왕절개를 포함합니다), 산후기. 그러나, 회사가 보장하는 보험금 지급사유와 보장개시일부터 2년이 지난 후에 발생한 습관성 유산, 불임 및 인공수정 관련 합병증으로 인한 경우에는 보험금을 지급합니다.【습관성 유산, 불임 및 인공수정】 한국표준질병·사인분류상의 N96~N98에 해당하는 질병을 말합니다.  5. 전쟁, 외국의 무력행사, 혁명, 내란, 사변, 폭동② 회사는 다른 약정이 없으면 피보험자가 직업, 직무 또는 동호회 활동목적으로 아래에 열거된 행위로 인하여 제3조(보험금의 지급사유)의 상해 관련 보험금 지급사유가 발생한 때에는 해당 보험금을 지급하지 않습니다. 1. 전문등반(전문적인 등산용구를 사용하여 암벽 또는 빙벽을 오르내리거나 특수한 기술, 경험, 사전훈련을 필요로 하는 등반을 말합니다), 글라이더 조종, 스카이다이빙, 스쿠버다이빙, 행글라이딩, 수상보트, 패러글라이딩 2. 모터보트, 자동차 또는 오토바이에 의한 경기, 시범, 흥행(이를 위한 연습을 포함합니다) 또는 시운전(다만, 공용도로상에서 시운전을 하는 동안 보험금 지급사유가 발생한 경우에는 보장합니다) 3. 선박에 탑승하는 것을 직무로 하는 사람이 직무상 선박에 탑승하고 있는 동안제6조(보험금 지급사유의 통지) 계약자 또는 피보험자나 보험수익자는 제3조(보험금의 지급사유)에서 정한 보험금 지급사유의 발생을 안 때에는 지체없이 그 사실을 회사에 알려야 합니다.제7조(보험금의 청구) ① 보험수익자는 다음의 서류를 제출하고 보험금을 청구하여야 합니다. 1. 청구서(회사 양식) 2. 사고증명서(진료비계산서, 사망진단서, 장해진단서, 입원치료확인서, 의사처방전(처방조제비) 등) 3. 신분증(주민등록증이나 운전면허증 등 사진이 붙은 정부기관발행 신분증, 본인이 아닌 경우에는 본인의 인감증명서 또는 본인서명사실확인서 포함)'),\n",
       " Document(id='6b022c37-6a3c-4ef7-bd0e-53a2dc11e6ba', metadata={'page': 0, 'source': '/Users/jaesolshin/Documents/GitHub/pg_test/data/20240401_15101_1.pdf'}, page_content='KB개인상해보험'),\n",
       " Document(id='ca107a9c-1df1-4fb6-a6c4-ab35d2c155e4', metadata={'page': 124, 'source': '/Users/jaesolshin/Documents/GitHub/pg_test/data/20240401_15101_1.pdf'}, page_content='- 114 -\\n제2조(보험금을 지급하지 않는 사유)회사는 아래의 사유를 원인으로 하여 생긴 손해는 보상하여 드리지 않습니다. 1. 피보험자의 고의 2. 계약자의 고의  3. 피보험자가 사고를 내고 도주하였을 때 4. 피보험자가 자동차를 경기용이나 경기를 위한 연습용 또는 시험용으로 운전하던 중 사고를 일으킨 때 5. 피보험자가 도로교통법 제43조, 제44조에 정한 음주․무면허 상태 또는 제45조에 의한 약물 상태에서 운전하던 중 사고를 일으킨 때 6. 자가용의 경우 피보험자가 자동차를 영업목적으로 운전하던 중 발생한 사고제3조(보험금의 비례분담)① 제1조(보험금의 지급사유) 제1항의 형사합의금에 대하여 교통사고처리지원금을 지급할 다수 계약(각종 공제계약을 포함합니다)이 체결되어 있는 경우 형사합의금 및 각 계약의 보상책임액에 따라 제2항에 의해 계산된 각 계약의 비례분담액을 보상책임액으로 지급합니다.② 다수 계약이 체결되어 있는 경우 각각의 계약에 대하여 다른 계약이 없는 것으로 하여 산출한 보상책임액의 합계액이 형사합의금을 초과하는 때에는 회사는 각 계약의 보상책임액을 비례분담하여 지급하며, 비례분담액 산출방식은 다음과 같습니다.각 계약별 비례분담액 =                           형사합의금  × 각 계약별 보상책임액각 계약별 보상책임액의 합계액제4조(준용규정)이 특별약관에서 정하지 않은 사항은 보통약관을 따릅니다.')]"
      ]
     },
     "execution_count": 89,
     "metadata": {},
     "output_type": "execute_result"
    }
   ],
   "source": [
    "vector_store.similarity_search(query=\"보험금의 지급사유\",k=3)"
   ]
  },
  {
   "cell_type": "code",
   "execution_count": 90,
   "metadata": {},
   "outputs": [
    {
     "data": {
      "text/plain": [
       "[Document(id='49b1859c-9c26-41a3-abcc-64239b3a404a', metadata={'page': 13, 'source': '/Users/jaesolshin/Documents/GitHub/pg_test/data/20240401_15101_1.pdf'}, page_content='- 3 -\\n의하거나 또는 그 이전에 발생한 후유장해를 포함합니다), 후유장해보험금이 지급되지 않았던 피보험자에게 그 신체의 동일 부위에 또다시 제8항에 규정하는 후유장해상태가 발생하였을 경우에는 직전까지의 후유장해에 대한 후유장해보험금이 지급된 것으로 보고 최종 후유장해 상태에 해당되는 후유장해보험금에서 이를 차감하여 지급합니다.【사 례】이 계약의 보장개시전의 원인에 의하거나 또는 그 이전에 발생한 장해로 후유장해보험금의 지급사유가 되지 않았던 장해 :보험가입 전 한 팔의 손목관절에 심한 장해(지급률 20%)가 있었던 피보험자가 보험가입 후 상해로 그 손목관절에 기능을 완전히 잃은 경우(지급률 30%)에는 보험가입 후 발생한 상해로 인한 장해지급률 30%에서 보험가입 전 발생한 장해지급률 20%를 차감한 10%에 해당하는 후유장해보험금을 지급⑩ 회사가 지급하여야 할 하나의 상해로 인한 후유장해보험금은 보험가입금액을 한도로 합니다.제5조(보험금을 지급하지 않는 사유) ① 회사는 다음 중 어느 한가지로 보험금 지급사유가 발생한 때에는 보험금을 지급하지 않습니다. 1. 피보험자가 고의로 자신을 해친 경우. 다만, 피보험자가 심신상실 등으로 자유로운 의사결정을 할 수 없는 상태에서 자신을 해친 경우에는 보험금을 지급합니다. 2. 보험수익자가 고의로 피보험자를 해친 경우. 다만, 그 보험수익자가 보험금의 일부 보험수익자인 경우에는 다른 보험수익자에 대한 보험금은 지급합니다. 3. 계약자가 고의로 피보험자를 해친 경우 4. 피보험자의 임신, 출산(제왕절개를 포함합니다), 산후기. 그러나, 회사가 보장하는 보험금 지급사유와 보장개시일부터 2년이 지난 후에 발생한 습관성 유산, 불임 및 인공수정 관련 합병증으로 인한 경우에는 보험금을 지급합니다.【습관성 유산, 불임 및 인공수정】 한국표준질병·사인분류상의 N96~N98에 해당하는 질병을 말합니다.  5. 전쟁, 외국의 무력행사, 혁명, 내란, 사변, 폭동② 회사는 다른 약정이 없으면 피보험자가 직업, 직무 또는 동호회 활동목적으로 아래에 열거된 행위로 인하여 제3조(보험금의 지급사유)의 상해 관련 보험금 지급사유가 발생한 때에는 해당 보험금을 지급하지 않습니다. 1. 전문등반(전문적인 등산용구를 사용하여 암벽 또는 빙벽을 오르내리거나 특수한 기술, 경험, 사전훈련을 필요로 하는 등반을 말합니다), 글라이더 조종, 스카이다이빙, 스쿠버다이빙, 행글라이딩, 수상보트, 패러글라이딩 2. 모터보트, 자동차 또는 오토바이에 의한 경기, 시범, 흥행(이를 위한 연습을 포함합니다) 또는 시운전(다만, 공용도로상에서 시운전을 하는 동안 보험금 지급사유가 발생한 경우에는 보장합니다) 3. 선박에 탑승하는 것을 직무로 하는 사람이 직무상 선박에 탑승하고 있는 동안제6조(보험금 지급사유의 통지) 계약자 또는 피보험자나 보험수익자는 제3조(보험금의 지급사유)에서 정한 보험금 지급사유의 발생을 안 때에는 지체없이 그 사실을 회사에 알려야 합니다.제7조(보험금의 청구) ① 보험수익자는 다음의 서류를 제출하고 보험금을 청구하여야 합니다. 1. 청구서(회사 양식) 2. 사고증명서(진료비계산서, 사망진단서, 장해진단서, 입원치료확인서, 의사처방전(처방조제비) 등) 3. 신분증(주민등록증이나 운전면허증 등 사진이 붙은 정부기관발행 신분증, 본인이 아닌 경우에는 본인의 인감증명서 또는 본인서명사실확인서 포함)'),\n",
       " Document(id='6b022c37-6a3c-4ef7-bd0e-53a2dc11e6ba', metadata={'page': 0, 'source': '/Users/jaesolshin/Documents/GitHub/pg_test/data/20240401_15101_1.pdf'}, page_content='KB개인상해보험'),\n",
       " Document(id='ca107a9c-1df1-4fb6-a6c4-ab35d2c155e4', metadata={'page': 124, 'source': '/Users/jaesolshin/Documents/GitHub/pg_test/data/20240401_15101_1.pdf'}, page_content='- 114 -\\n제2조(보험금을 지급하지 않는 사유)회사는 아래의 사유를 원인으로 하여 생긴 손해는 보상하여 드리지 않습니다. 1. 피보험자의 고의 2. 계약자의 고의  3. 피보험자가 사고를 내고 도주하였을 때 4. 피보험자가 자동차를 경기용이나 경기를 위한 연습용 또는 시험용으로 운전하던 중 사고를 일으킨 때 5. 피보험자가 도로교통법 제43조, 제44조에 정한 음주․무면허 상태 또는 제45조에 의한 약물 상태에서 운전하던 중 사고를 일으킨 때 6. 자가용의 경우 피보험자가 자동차를 영업목적으로 운전하던 중 발생한 사고제3조(보험금의 비례분담)① 제1조(보험금의 지급사유) 제1항의 형사합의금에 대하여 교통사고처리지원금을 지급할 다수 계약(각종 공제계약을 포함합니다)이 체결되어 있는 경우 형사합의금 및 각 계약의 보상책임액에 따라 제2항에 의해 계산된 각 계약의 비례분담액을 보상책임액으로 지급합니다.② 다수 계약이 체결되어 있는 경우 각각의 계약에 대하여 다른 계약이 없는 것으로 하여 산출한 보상책임액의 합계액이 형사합의금을 초과하는 때에는 회사는 각 계약의 보상책임액을 비례분담하여 지급하며, 비례분담액 산출방식은 다음과 같습니다.각 계약별 비례분담액 =                           형사합의금  × 각 계약별 보상책임액각 계약별 보상책임액의 합계액제4조(준용규정)이 특별약관에서 정하지 않은 사항은 보통약관을 따릅니다.')]"
      ]
     },
     "execution_count": 90,
     "metadata": {},
     "output_type": "execute_result"
    }
   ],
   "source": [
    "retriever = vector_store.as_retriever(\n",
    "    search_type=\"mmr\",\n",
    "    # search_kwargs={\"k\": 3, \"fetch_k\": 2, \"lambda_mult\": 0.5},\n",
    "    search_kwargs={\"k\": 10, \"fetch_k\": 3, \"lambda_mult\": 0.5},\n",
    ")\n",
    "retriever.invoke(\"보험금의 지급사유\")"
   ]
  },
  {
   "cell_type": "markdown",
   "metadata": {},
   "source": [
    "## LLM 정의"
   ]
  },
  {
   "cell_type": "code",
   "execution_count": 91,
   "metadata": {},
   "outputs": [],
   "source": [
    "from langchain_openai import ChatOpenAI\n",
    "\n",
    "llm = ChatOpenAI(model=\"gpt-4o\", temperature=0)"
   ]
  },
  {
   "cell_type": "markdown",
   "metadata": {},
   "source": [
    "### 프롬프트 템플릿"
   ]
  },
  {
   "cell_type": "code",
   "execution_count": 114,
   "metadata": {},
   "outputs": [],
   "source": [
    "from langchain_core.prompts import ChatPromptTemplate\n",
    "from langchain_core.output_parsers import StrOutputParser\n",
    "from langchain_core.runnables import RunnablePassthrough\n",
    "from langchain_core.messages import SystemMessage\n",
    "\n",
    "system_prompt = SystemMessage(content=\n",
    "        \"\"\"당신은 전문 상담원입니다. 아래 지침에 따라 사용자의 질문에 답변을 제공하세요.\n",
    "        ---------------------\n",
    "        1. 주어진 정보만 활용하여 답변을 제공하세요. 주어진 정보로 답변을 할 수 없는 경우, 정중하게 답변을 제공할 수 없다고 설명합니다.\n",
    "        2. 답변은 정제된 형식과 문어체로 작성하며, 친절하고 자세한 내용을 제공합니다.\n",
    "        ---------------------\n",
    "        \"\"\"\n",
    ")\n",
    "\n",
    "template = (\n",
    "        \"\"\"다음은 문맥 정보입니다.\\n\"\n",
    "        ---------------------\\n\n",
    "        {context}\"\n",
    "        \\n---------------------\\n\n",
    "        문맥 정보를 고려하여 {query}에 가장 적합한 부분을 제공하세요.\n",
    "        최종 출력에는 제목을 포함하지 마세요.\"\"\"\n",
    ")\n",
    "\n",
    "prompt = ChatPromptTemplate.from_messages([system_prompt, template])"
   ]
  },
  {
   "cell_type": "markdown",
   "metadata": {},
   "source": [
    "### Langchain 생성"
   ]
  },
  {
   "cell_type": "code",
   "execution_count": 115,
   "metadata": {},
   "outputs": [],
   "source": [
    "def format_docs(docs):\n",
    "    return \"\\n\\n\".join([d.page_content for d in docs])\n",
    "\n",
    "chain = (\n",
    "        {\"context\": retriever | format_docs, \"query\": RunnablePassthrough()}\n",
    "        | prompt\n",
    "        | llm\n",
    "        | StrOutputParser()\n",
    "    )"
   ]
  },
  {
   "cell_type": "markdown",
   "metadata": {},
   "source": [
    "### 테스트"
   ]
  },
  {
   "cell_type": "code",
   "execution_count": 116,
   "metadata": {},
   "outputs": [
    {
     "data": {
      "text/plain": [
       "'주어진 문맥 정보에 따르면, 보험금의 지급사유는 다음과 같습니다:\\n\\n보험금은 피보험자가 보험계약에 명시된 사고나 질병으로 인해 후유장해 상태가 발생한 경우 지급됩니다. 후유장해보험금은 피보험자의 신체 동일 부위에 발생한 후유장해 상태에 대해 지급되며, 이전에 발생한 후유장해에 대한 보험금이 지급되지 않았던 경우에도 동일 부위에 새로운 후유장해가 발생하면 직전까지의 후유장해에 대한 보험금이 지급된 것으로 간주하여 최종 후유장해 상태에 해당하는 보험금에서 차감하여 지급됩니다.\\n\\n또한, 보험금 지급사유는 피보험자가 고의로 자신을 해친 경우를 제외하고, 심신상실 등으로 자유로운 의사결정을 할 수 없는 상태에서 자신을 해친 경우에는 보험금을 지급합니다. 보험수익자가 고의로 피보험자를 해친 경우에도 보험금이 지급되지 않으며, 피보험자의 임신, 출산, 산후기와 관련된 경우에도 보험금이 지급되지 않습니다. 다만, 보장개시일부터 2년이 지난 후 발생한 습관성 유산, 불임 및 인공수정 관련 합병증으로 인한 경우에는 보험금을 지급합니다.\\n\\n보험금 지급사유가 발생한 경우, 계약자 또는 피보험자나 보험수익자는 지체 없이 그 사실을 회사에 통지해야 하며, 보험수익자는 청구서, 사고증명서, 신분증 등의 서류를 제출하여 보험금을 청구해야 합니다.'"
      ]
     },
     "execution_count": 116,
     "metadata": {},
     "output_type": "execute_result"
    }
   ],
   "source": [
    "chain.invoke(\"보험금의 지급사유\")"
   ]
  },
  {
   "cell_type": "markdown",
   "metadata": {},
   "source": [
    "### 함수로 변경"
   ]
  },
  {
   "cell_type": "code",
   "execution_count": 117,
   "metadata": {},
   "outputs": [],
   "source": [
    "from langchain_core.prompts import ChatPromptTemplate\n",
    "from langchain_core.output_parsers import StrOutputParser\n",
    "from langchain_core.runnables import RunnablePassthrough\n",
    "\n",
    "def format_docs(docs):\n",
    "    return \"\\n\\n\".join([d.page_content for d in docs])\n",
    "\n",
    "def extract(retriever, system, prompt, llm, text_query):\n",
    "    chain = (\n",
    "            {\"context\": retriever | format_docs, \"query\": RunnablePassthrough()}\n",
    "            | ChatPromptTemplate.from_messages([system, template])\n",
    "            | llm\n",
    "            | StrOutputParser()\n",
    "        )\n",
    "    output = chain.invoke(text_query)\n",
    "\n",
    "    return output"
   ]
  },
  {
   "cell_type": "markdown",
   "metadata": {},
   "source": [
    "### 테스트"
   ]
  },
  {
   "cell_type": "code",
   "execution_count": 118,
   "metadata": {},
   "outputs": [
    {
     "data": {
      "text/plain": [
       "'주어진 문맥 정보에 따르면, 보험금의 지급사유는 다음과 같습니다:\\n\\n보험금은 피보험자가 보험계약에 명시된 사고나 질병으로 인해 후유장해 상태가 발생한 경우 지급됩니다. 특히, 동일한 신체 부위에 후유장해가 발생한 경우, 이전에 발생한 후유장해에 대한 보험금이 지급된 것으로 간주하고, 최종 후유장해 상태에 해당하는 보험금에서 이를 차감하여 지급합니다. 또한, 보험금은 보험가입금액을 한도로 하여 지급됩니다.\\n\\n보험금 지급사유가 발생한 경우, 계약자 또는 피보험자나 보험수익자는 지체 없이 그 사실을 회사에 통지해야 하며, 보험수익자는 청구서, 사고증명서, 신분증 등의 서류를 제출하여 보험금을 청구해야 합니다.'"
      ]
     },
     "execution_count": 118,
     "metadata": {},
     "output_type": "execute_result"
    }
   ],
   "source": [
    "query = \"보험금의 지급사유\"\n",
    "extract(retriever, system_prompt, prompt, llm, query)"
   ]
  },
  {
   "cell_type": "code",
   "execution_count": 119,
   "metadata": {},
   "outputs": [
    {
     "data": {
      "text/plain": [
       "'죄송하지만 제공된 문맥 정보로는 점심 메뉴 추천에 적합한 내용을 찾을 수 없습니다. 다른 질문이 있으시면 도와드리겠습니다.'"
      ]
     },
     "execution_count": 119,
     "metadata": {},
     "output_type": "execute_result"
    }
   ],
   "source": [
    "query = \"오늘 점심메뉴 추천\"\n",
    "extract(retriever, system_prompt, prompt, llm, query)"
   ]
  }
 ],
 "metadata": {
  "kernelspec": {
   "display_name": "venv",
   "language": "python",
   "name": "python3"
  },
  "language_info": {
   "codemirror_mode": {
    "name": "ipython",
    "version": 3
   },
   "file_extension": ".py",
   "mimetype": "text/x-python",
   "name": "python",
   "nbconvert_exporter": "python",
   "pygments_lexer": "ipython3",
   "version": "3.12.4"
  }
 },
 "nbformat": 4,
 "nbformat_minor": 2
}
