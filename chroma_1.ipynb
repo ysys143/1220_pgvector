{
 "cells": [
  {
   "cell_type": "code",
   "execution_count": 1,
   "metadata": {},
   "outputs": [],
   "source": [
    "import os\n",
    "import chromadb\n",
    "from chromadb.config import Settings\n",
    "import numpy as np"
   ]
  },
  {
   "cell_type": "code",
   "execution_count": 2,
   "metadata": {},
   "outputs": [
    {
     "name": "stdout",
     "output_type": "stream",
     "text": [
      "./chromadb_store 디렉토리가 생성되었습니다.\n"
     ]
    }
   ],
   "source": [
    "# 디렉토리 경로\n",
    "directory = \"./chromadb_store\"\n",
    "\n",
    "# 디렉토리 생성\n",
    "if not os.path.exists(directory):\n",
    "    os.makedirs(directory)\n",
    "    print(f\"{directory} 디렉토리가 생성되었습니다.\")\n",
    "\n",
    "# ChromaDB 클라이언트 초기화\n",
    "client = chromadb.PersistentClient(path=directory)"
   ]
  },
  {
   "cell_type": "code",
   "execution_count": 3,
   "metadata": {},
   "outputs": [],
   "source": [
    "if 'vectors' in [collection.name for collection in client.list_collections()]:\n",
    "    client.delete_collection(name='vectors')"
   ]
  },
  {
   "cell_type": "code",
   "execution_count": 4,
   "metadata": {},
   "outputs": [
    {
     "data": {
      "text/plain": [
       "[Collection(name=vectors)]"
      ]
     },
     "execution_count": 4,
     "metadata": {},
     "output_type": "execute_result"
    }
   ],
   "source": [
    "# 컬렉션 생성 또는 불러오기\n",
    "collection = client.get_or_create_collection(name=\"vectors\")\n",
    "client.list_collections()"
   ]
  },
  {
   "cell_type": "code",
   "execution_count": 5,
   "metadata": {},
   "outputs": [
    {
     "data": {
      "text/plain": [
       "[]"
      ]
     },
     "execution_count": 5,
     "metadata": {},
     "output_type": "execute_result"
    }
   ],
   "source": [
    "# client.delete_collection(name='vectors')\n",
    "# client.list_collections()"
   ]
  },
  {
   "cell_type": "code",
   "execution_count": 5,
   "metadata": {},
   "outputs": [],
   "source": [
    "# 벡터 생성\n",
    "example_vectors = np.random.randn(10, 5)\n",
    "example_documents = [f\"sample document {i}\" for i in range(len(example_vectors))]\n",
    "example_ids = [f\"vec_{i}\" for i in range(len(example_vectors))]\n",
    "\n",
    "# 벡터 삽입\n",
    "collection.add(documents=example_documents, embeddings=example_vectors, ids=example_ids)\n",
    "\n",
    "# 컬렉션 저장\n",
    "# collection.save(directory)\n",
    "# client.persist() "
   ]
  },
  {
   "cell_type": "code",
   "execution_count": 6,
   "metadata": {},
   "outputs": [
    {
     "data": {
      "text/plain": [
       "{'ids': ['vec_0',\n",
       "  'vec_1',\n",
       "  'vec_2',\n",
       "  'vec_3',\n",
       "  'vec_4',\n",
       "  'vec_5',\n",
       "  'vec_6',\n",
       "  'vec_7',\n",
       "  'vec_8',\n",
       "  'vec_9'],\n",
       " 'embeddings': array([[-0.46351319,  1.98921805,  0.20853227,  0.06864815,  0.89203223],\n",
       "        [-1.07706367, -1.67907934,  0.98689716, -0.58798128,  0.01545948],\n",
       "        [ 0.79187339,  0.28377947,  1.1639184 ,  0.01118593,  0.76877525],\n",
       "        [-0.75433257, -0.58893666, -1.24566677, -0.23376972,  0.67447166],\n",
       "        [ 1.00057557, -1.51859678,  0.07239584, -0.66014882,  0.01162368],\n",
       "        [-0.48514845,  1.71637719, -0.06271837, -0.82473447, -0.31113164],\n",
       "        [-1.65832677, -1.0835497 ,  1.35703816, -0.36843077,  0.12034869],\n",
       "        [-0.70881999,  0.71943071, -1.76356394,  1.90797574, -1.2249298 ],\n",
       "        [-0.49555807, -0.30461109,  0.45878932, -0.89142374,  1.39348815],\n",
       "        [-0.11716368,  2.05935133, -0.82076919,  1.03194164,  0.68822681]]),\n",
       " 'documents': ['sample document 0',\n",
       "  'sample document 1',\n",
       "  'sample document 2',\n",
       "  'sample document 3',\n",
       "  'sample document 4',\n",
       "  'sample document 5',\n",
       "  'sample document 6',\n",
       "  'sample document 7',\n",
       "  'sample document 8',\n",
       "  'sample document 9'],\n",
       " 'uris': None,\n",
       " 'data': None,\n",
       " 'metadatas': [None, None, None, None, None, None, None, None, None, None],\n",
       " 'included': [<IncludeEnum.embeddings: 'embeddings'>,\n",
       "  <IncludeEnum.documents: 'documents'>,\n",
       "  <IncludeEnum.metadatas: 'metadatas'>]}"
      ]
     },
     "execution_count": 6,
     "metadata": {},
     "output_type": "execute_result"
    }
   ],
   "source": [
    "collection.peek()"
   ]
  },
  {
   "cell_type": "code",
   "execution_count": 7,
   "metadata": {},
   "outputs": [],
   "source": [
    "# # 컬렉션 로드\n",
    "# # 디렉토리 경로\n",
    "# directory = \"./chromadb_store\"\n",
    "\n",
    "# # ChromaDB 클라이언트 초기화\n",
    "# client = chromadb.PersistentClient(path=directory)\n",
    "# collection = client.get_or_create_collection(name=\"vectors\")\n",
    "\n",
    "# 쿼리 벡터\n",
    "test_vec = np.random.randn(1, 5)\n",
    "test_vec = test_vec.squeeze().tolist()\n",
    "\n",
    "# 벡터 검색\n",
    "retrieved = collection.query(\n",
    "    query_embeddings=[test_vec],\n",
    "    n_results=5\n",
    ")"
   ]
  },
  {
   "cell_type": "code",
   "execution_count": 8,
   "metadata": {},
   "outputs": [
    {
     "data": {
      "text/plain": [
       "{'ids': [['vec_3', 'vec_4', 'vec_2', 'vec_8', 'vec_5']],\n",
       " 'embeddings': None,\n",
       " 'documents': [['sample document 3',\n",
       "   'sample document 4',\n",
       "   'sample document 2',\n",
       "   'sample document 8',\n",
       "   'sample document 5']],\n",
       " 'uris': None,\n",
       " 'data': None,\n",
       " 'metadatas': [[None, None, None, None, None]],\n",
       " 'distances': [[2.7575162500289254,\n",
       "   3.0943530743097485,\n",
       "   4.520446871100574,\n",
       "   5.677335991886583,\n",
       "   6.797016031269405]],\n",
       " 'included': [<IncludeEnum.distances: 'distances'>,\n",
       "  <IncludeEnum.documents: 'documents'>,\n",
       "  <IncludeEnum.metadatas: 'metadatas'>]}"
      ]
     },
     "execution_count": 8,
     "metadata": {},
     "output_type": "execute_result"
    }
   ],
   "source": [
    "retrieved "
   ]
  },
  {
   "cell_type": "code",
   "execution_count": 9,
   "metadata": {},
   "outputs": [
    {
     "name": "stdout",
     "output_type": "stream",
     "text": [
      "\n",
      "Top 5 Nearest Vectors:\n",
      "1. ID = vec_3, Document = sample document 3, Similarity = 2.7575162500289254\n",
      "2. ID = vec_4, Document = sample document 4, Similarity = 3.0943530743097485\n",
      "3. ID = vec_2, Document = sample document 2, Similarity = 4.520446871100574\n",
      "4. ID = vec_8, Document = sample document 8, Similarity = 5.677335991886583\n",
      "5. ID = vec_5, Document = sample document 5, Similarity = 6.797016031269405\n"
     ]
    }
   ],
   "source": [
    "\n",
    "# 결과 출력\n",
    "def show_results(results):\n",
    "    for idx, (id_, doc, similarity) in enumerate(zip(results['ids'][0], results['documents'][0], results['distances'][0])):\n",
    "        print(f\"{idx + 1}. ID = {id_}, Document = {doc}, Similarity = {similarity}\")\n",
    "\n",
    "print(\"\\nTop 5 Nearest Vectors:\")\n",
    "show_results(retrieved)"
   ]
  }
 ],
 "metadata": {
  "kernelspec": {
   "display_name": "venv",
   "language": "python",
   "name": "python3"
  },
  "language_info": {
   "codemirror_mode": {
    "name": "ipython",
    "version": 3
   },
   "file_extension": ".py",
   "mimetype": "text/x-python",
   "name": "python",
   "nbconvert_exporter": "python",
   "pygments_lexer": "ipython3",
   "version": "3.12.4"
  }
 },
 "nbformat": 4,
 "nbformat_minor": 2
}
