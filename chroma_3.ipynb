{
 "cells": [
  {
   "cell_type": "markdown",
   "metadata": {},
   "source": [
    "# Connection"
   ]
  },
  {
   "cell_type": "markdown",
   "metadata": {},
   "source": [
    "### persistent client - local database"
   ]
  },
  {
   "cell_type": "code",
   "execution_count": 92,
   "metadata": {},
   "outputs": [
    {
     "name": "stdout",
     "output_type": "stream",
     "text": [
      "./chromadb_store 디렉토리가 생성되었습니다.\n"
     ]
    }
   ],
   "source": [
    "import os\n",
    "import chromadb\n",
    "\n",
    "# 디렉토리 경로\n",
    "directory = \"./chromadb_store\"\n",
    "\n",
    "# 디렉토리 생성\n",
    "if not os.path.exists(directory):\n",
    "    os.makedirs(directory)\n",
    "    print(f\"{directory} 디렉토리가 생성되었습니다.\")\n",
    "\n",
    "# ChromaDB 클라이언트 초기화\n",
    "client = chromadb.PersistentClient(path=directory)"
   ]
  },
  {
   "cell_type": "code",
   "execution_count": 93,
   "metadata": {},
   "outputs": [
    {
     "data": {
      "text/plain": [
       "1734692016467038000"
      ]
     },
     "execution_count": 93,
     "metadata": {},
     "output_type": "execute_result"
    }
   ],
   "source": [
    "client.heartbeat() # returns a nanosecond heartbeat. Useful for making sure the client remains connected.\n",
    "# client.reset() # Empties and completely resets the database. ⚠️ This is destructive and not reversible."
   ]
  },
  {
   "cell_type": "code",
   "execution_count": 94,
   "metadata": {},
   "outputs": [
    {
     "data": {
      "text/plain": [
       "Settings(environment='', chroma_api_impl='chromadb.api.segment.SegmentAPI', chroma_server_nofile=None, chroma_server_thread_pool_size=40, tenant_id='default', topic_namespace='default', chroma_server_host=None, chroma_server_headers=None, chroma_server_http_port=None, chroma_server_ssl_enabled=False, chroma_server_ssl_verify=None, chroma_server_api_default_path=<APIVersion.V2: '/api/v2'>, chroma_server_cors_allow_origins=[], is_persistent=True, persist_directory='./chromadb_store', chroma_memory_limit_bytes=0, chroma_segment_cache_policy=None, allow_reset=False, chroma_auth_token_transport_header=None, chroma_client_auth_provider=None, chroma_client_auth_credentials=None, chroma_server_auth_ignore_paths={'APIVersion.V2': ['GET'], 'APIVersion.V2/heartbeat': ['GET'], 'APIVersion.V2/version': ['GET'], 'APIVersion.V1': ['GET'], 'APIVersion.V1/heartbeat': ['GET'], 'APIVersion.V1/version': ['GET']}, chroma_overwrite_singleton_tenant_database_access_from_auth=False, chroma_server_authn_provider=None, chroma_server_authn_credentials=None, chroma_server_authn_credentials_file=None, chroma_server_authz_provider=None, chroma_server_authz_config=None, chroma_server_authz_config_file=None, chroma_product_telemetry_impl='chromadb.telemetry.product.posthog.Posthog', chroma_telemetry_impl='chromadb.telemetry.product.posthog.Posthog', anonymized_telemetry=True, chroma_otel_collection_endpoint='', chroma_otel_service_name='chromadb', chroma_otel_collection_headers={}, chroma_otel_granularity=None, migrations='apply', migrations_hash_algorithm='md5', chroma_segment_directory_impl='chromadb.segment.impl.distributed.segment_directory.RendezvousHashSegmentDirectory', chroma_memberlist_provider_impl='chromadb.segment.impl.distributed.segment_directory.CustomResourceMemberlistProvider', worker_memberlist_name='query-service-memberlist', chroma_server_grpc_port=None, chroma_sysdb_impl='chromadb.db.impl.sqlite.SqliteDB', chroma_producer_impl='chromadb.db.impl.sqlite.SqliteDB', chroma_consumer_impl='chromadb.db.impl.sqlite.SqliteDB', chroma_segment_manager_impl='chromadb.segment.impl.manager.local.LocalSegmentManager', chroma_executor_impl='chromadb.execution.executor.local.LocalExecutor', chroma_quota_provider_impl=None, chroma_rate_limiting_provider_impl=None, chroma_quota_enforcer_impl='chromadb.quota.simple_quota_enforcer.SimpleQuotaEnforcer', chroma_rate_limit_enforcer_impl='chromadb.rate_limit.simple_rate_limit.SimpleRateLimitEnforcer', chroma_logservice_request_timeout_seconds=3, chroma_sysdb_request_timeout_seconds=3, chroma_query_request_timeout_seconds=60, chroma_db_impl=None, chroma_collection_assignment_policy_impl='chromadb.ingest.impl.simple_policy.SimpleAssignmentPolicy', chroma_coordinator_host='localhost', chroma_logservice_host='localhost', chroma_logservice_port=50052)"
      ]
     },
     "execution_count": 94,
     "metadata": {},
     "output_type": "execute_result"
    }
   ],
   "source": [
    "client.get_settings()"
   ]
  },
  {
   "cell_type": "markdown",
   "metadata": {},
   "source": [
    "### HttpClient : client-server mode"
   ]
  },
  {
   "cell_type": "raw",
   "metadata": {
    "vscode": {
     "languageId": "raw"
    }
   },
   "source": [
    "chroma run --host localhost --port 8000 --path \"./chroma_storage\""
   ]
  },
  {
   "cell_type": "markdown",
   "metadata": {},
   "source": [
    "http client"
   ]
  },
  {
   "cell_type": "raw",
   "metadata": {
    "vscode": {
     "languageId": "raw"
    }
   },
   "source": [
    "import chromadb\n",
    "chroma_client = chromadb.HttpClient(host='localhost', port=8000)"
   ]
  },
  {
   "cell_type": "markdown",
   "metadata": {},
   "source": [
    "async HTTP client"
   ]
  },
  {
   "cell_type": "raw",
   "metadata": {
    "vscode": {
     "languageId": "raw"
    }
   },
   "source": [
    "# python 파일에서 실행\n",
    "import asyncio\n",
    "import chromadb\n",
    "\n",
    "async def main():\n",
    "    client = await chromadb.AsyncHttpClient()\n",
    "    collection = await client.create_collection(name=\"my_collection\")\n",
    "\n",
    "    await collection.add(\n",
    "        documents=[\"hello world\"],\n",
    "        ids=[\"id1\"]\n",
    "    )\n",
    "\n",
    "asyncio.run(main())"
   ]
  },
  {
   "cell_type": "markdown",
   "metadata": {},
   "source": [
    "Using the Python HTTP-only client#"
   ]
  },
  {
   "cell_type": "raw",
   "metadata": {
    "vscode": {
     "languageId": "raw"
    }
   },
   "source": [
    "import chromadb\n",
    "# Example setup of the client to connect to your chroma server\n",
    "client = chromadb.HttpClient(host='localhost', port=8000)\n",
    "\n",
    "# Or for async usage:\n",
    "async def main():\n",
    "    client = await chromadb.AsyncHttpClient(host='localhost', port=8000)"
   ]
  },
  {
   "cell_type": "markdown",
   "metadata": {},
   "source": [
    "# Collection"
   ]
  },
  {
   "cell_type": "markdown",
   "metadata": {},
   "source": [
    "### Creating, inspecting, and deleting Collections"
   ]
  },
  {
   "cell_type": "code",
   "execution_count": 95,
   "metadata": {},
   "outputs": [],
   "source": [
    "from chromadb.utils import embedding_functions as ef\n",
    "\n",
    "# embedding_function의 기본값은 Sentence Transformers all-MiniLM-L6-v2\n",
    "# default_ef = embedding_functions.DefaultEmbeddingFunction()\n",
    "# sentence_transformer_ef = embedding_functions.SentenceTransformerEmbeddingFunction(model_name=\"all-MiniLM-L6-v2\")\n",
    "\n",
    "api_key = open('API_KEY', 'r').read()\n",
    "openai_ef = ef.OpenAIEmbeddingFunction(\n",
    "                api_key=api_key,\n",
    "                model_name=\"text-embedding-3-small\"\n",
    "            )\n"
   ]
  },
  {
   "cell_type": "code",
   "execution_count": 97,
   "metadata": {},
   "outputs": [
    {
     "ename": "OperationalError",
     "evalue": "attempt to write a readonly database",
     "output_type": "error",
     "traceback": [
      "\u001b[0;31m---------------------------------------------------------------------------\u001b[0m",
      "\u001b[0;31mOperationalError\u001b[0m                          Traceback (most recent call last)",
      "Cell \u001b[0;32mIn[97], line 1\u001b[0m\n\u001b[0;32m----> 1\u001b[0m collection \u001b[38;5;241m=\u001b[39m \u001b[43mclient\u001b[49m\u001b[38;5;241;43m.\u001b[39;49m\u001b[43mcreate_collection\u001b[49m\u001b[43m(\u001b[49m\u001b[43mname\u001b[49m\u001b[38;5;241;43m=\u001b[39;49m\u001b[38;5;124;43m\"\u001b[39;49m\u001b[38;5;124;43mnew_collection\u001b[39;49m\u001b[38;5;124;43m\"\u001b[39;49m\u001b[43m,\u001b[49m\u001b[43m \u001b[49m\u001b[43membedding_function\u001b[49m\u001b[38;5;241;43m=\u001b[39;49m\u001b[43mopenai_ef\u001b[49m\u001b[43m)\u001b[49m\n\u001b[1;32m      2\u001b[0m client\u001b[38;5;241m.\u001b[39mlist_collections()\n",
      "File \u001b[0;32m~/Documents/GitHub/pgvector-python/venv/lib/python3.12/site-packages/chromadb/api/client.py:147\u001b[0m, in \u001b[0;36mClient.create_collection\u001b[0;34m(self, name, configuration, metadata, embedding_function, data_loader, get_or_create)\u001b[0m\n\u001b[1;32m    135\u001b[0m \u001b[38;5;129m@override\u001b[39m\n\u001b[1;32m    136\u001b[0m \u001b[38;5;28;01mdef\u001b[39;00m \u001b[38;5;21mcreate_collection\u001b[39m(\n\u001b[1;32m    137\u001b[0m     \u001b[38;5;28mself\u001b[39m,\n\u001b[0;32m   (...)\u001b[0m\n\u001b[1;32m    145\u001b[0m     get_or_create: \u001b[38;5;28mbool\u001b[39m \u001b[38;5;241m=\u001b[39m \u001b[38;5;28;01mFalse\u001b[39;00m,\n\u001b[1;32m    146\u001b[0m ) \u001b[38;5;241m-\u001b[39m\u001b[38;5;241m>\u001b[39m Collection:\n\u001b[0;32m--> 147\u001b[0m     model \u001b[38;5;241m=\u001b[39m \u001b[38;5;28;43mself\u001b[39;49m\u001b[38;5;241;43m.\u001b[39;49m\u001b[43m_server\u001b[49m\u001b[38;5;241;43m.\u001b[39;49m\u001b[43mcreate_collection\u001b[49m\u001b[43m(\u001b[49m\n\u001b[1;32m    148\u001b[0m \u001b[43m        \u001b[49m\u001b[43mname\u001b[49m\u001b[38;5;241;43m=\u001b[39;49m\u001b[43mname\u001b[49m\u001b[43m,\u001b[49m\n\u001b[1;32m    149\u001b[0m \u001b[43m        \u001b[49m\u001b[43mmetadata\u001b[49m\u001b[38;5;241;43m=\u001b[39;49m\u001b[43mmetadata\u001b[49m\u001b[43m,\u001b[49m\n\u001b[1;32m    150\u001b[0m \u001b[43m        \u001b[49m\u001b[43mtenant\u001b[49m\u001b[38;5;241;43m=\u001b[39;49m\u001b[38;5;28;43mself\u001b[39;49m\u001b[38;5;241;43m.\u001b[39;49m\u001b[43mtenant\u001b[49m\u001b[43m,\u001b[49m\n\u001b[1;32m    151\u001b[0m \u001b[43m        \u001b[49m\u001b[43mdatabase\u001b[49m\u001b[38;5;241;43m=\u001b[39;49m\u001b[38;5;28;43mself\u001b[39;49m\u001b[38;5;241;43m.\u001b[39;49m\u001b[43mdatabase\u001b[49m\u001b[43m,\u001b[49m\n\u001b[1;32m    152\u001b[0m \u001b[43m        \u001b[49m\u001b[43mget_or_create\u001b[49m\u001b[38;5;241;43m=\u001b[39;49m\u001b[43mget_or_create\u001b[49m\u001b[43m,\u001b[49m\n\u001b[1;32m    153\u001b[0m \u001b[43m        \u001b[49m\u001b[43mconfiguration\u001b[49m\u001b[38;5;241;43m=\u001b[39;49m\u001b[43mconfiguration\u001b[49m\u001b[43m,\u001b[49m\n\u001b[1;32m    154\u001b[0m \u001b[43m    \u001b[49m\u001b[43m)\u001b[49m\n\u001b[1;32m    155\u001b[0m     \u001b[38;5;28;01mreturn\u001b[39;00m Collection(\n\u001b[1;32m    156\u001b[0m         client\u001b[38;5;241m=\u001b[39m\u001b[38;5;28mself\u001b[39m\u001b[38;5;241m.\u001b[39m_server,\n\u001b[1;32m    157\u001b[0m         model\u001b[38;5;241m=\u001b[39mmodel,\n\u001b[1;32m    158\u001b[0m         embedding_function\u001b[38;5;241m=\u001b[39membedding_function,\n\u001b[1;32m    159\u001b[0m         data_loader\u001b[38;5;241m=\u001b[39mdata_loader,\n\u001b[1;32m    160\u001b[0m     )\n",
      "File \u001b[0;32m~/Documents/GitHub/pgvector-python/venv/lib/python3.12/site-packages/chromadb/telemetry/opentelemetry/__init__.py:150\u001b[0m, in \u001b[0;36mtrace_method.<locals>.decorator.<locals>.wrapper\u001b[0;34m(*args, **kwargs)\u001b[0m\n\u001b[1;32m    148\u001b[0m \u001b[38;5;28;01mglobal\u001b[39;00m tracer, granularity\n\u001b[1;32m    149\u001b[0m \u001b[38;5;28;01mif\u001b[39;00m trace_granularity \u001b[38;5;241m<\u001b[39m granularity:\n\u001b[0;32m--> 150\u001b[0m     \u001b[38;5;28;01mreturn\u001b[39;00m \u001b[43mf\u001b[49m\u001b[43m(\u001b[49m\u001b[38;5;241;43m*\u001b[39;49m\u001b[43margs\u001b[49m\u001b[43m,\u001b[49m\u001b[43m \u001b[49m\u001b[38;5;241;43m*\u001b[39;49m\u001b[38;5;241;43m*\u001b[39;49m\u001b[43mkwargs\u001b[49m\u001b[43m)\u001b[49m\n\u001b[1;32m    151\u001b[0m \u001b[38;5;28;01mif\u001b[39;00m \u001b[38;5;129;01mnot\u001b[39;00m tracer:\n\u001b[1;32m    152\u001b[0m     \u001b[38;5;28;01mreturn\u001b[39;00m f(\u001b[38;5;241m*\u001b[39margs, \u001b[38;5;241m*\u001b[39m\u001b[38;5;241m*\u001b[39mkwargs)\n",
      "File \u001b[0;32m~/Documents/GitHub/pgvector-python/venv/lib/python3.12/site-packages/chromadb/api/segment.py:103\u001b[0m, in \u001b[0;36mrate_limit.<locals>.wrapper\u001b[0;34m(*args, **kwargs)\u001b[0m\n\u001b[1;32m    100\u001b[0m \u001b[38;5;129m@wraps\u001b[39m(func)\n\u001b[1;32m    101\u001b[0m \u001b[38;5;28;01mdef\u001b[39;00m \u001b[38;5;21mwrapper\u001b[39m(\u001b[38;5;241m*\u001b[39margs: Any, \u001b[38;5;241m*\u001b[39m\u001b[38;5;241m*\u001b[39mkwargs: Any) \u001b[38;5;241m-\u001b[39m\u001b[38;5;241m>\u001b[39m Any:\n\u001b[1;32m    102\u001b[0m     \u001b[38;5;28mself\u001b[39m \u001b[38;5;241m=\u001b[39m args[\u001b[38;5;241m0\u001b[39m]\n\u001b[0;32m--> 103\u001b[0m     \u001b[38;5;28;01mreturn\u001b[39;00m \u001b[38;5;28;43mself\u001b[39;49m\u001b[38;5;241;43m.\u001b[39;49m\u001b[43m_rate_limit_enforcer\u001b[49m\u001b[38;5;241;43m.\u001b[39;49m\u001b[43mrate_limit\u001b[49m\u001b[43m(\u001b[49m\u001b[43mfunc\u001b[49m\u001b[43m)\u001b[49m\u001b[43m(\u001b[49m\u001b[38;5;241;43m*\u001b[39;49m\u001b[43margs\u001b[49m\u001b[43m,\u001b[49m\u001b[43m \u001b[49m\u001b[38;5;241;43m*\u001b[39;49m\u001b[38;5;241;43m*\u001b[39;49m\u001b[43mkwargs\u001b[49m\u001b[43m)\u001b[49m\n",
      "File \u001b[0;32m~/Documents/GitHub/pgvector-python/venv/lib/python3.12/site-packages/chromadb/rate_limit/simple_rate_limit/__init__.py:23\u001b[0m, in \u001b[0;36mSimpleRateLimitEnforcer.rate_limit.<locals>.wrapper\u001b[0;34m(*args, **kwargs)\u001b[0m\n\u001b[1;32m     21\u001b[0m \u001b[38;5;129m@wraps\u001b[39m(func)\n\u001b[1;32m     22\u001b[0m \u001b[38;5;28;01mdef\u001b[39;00m \u001b[38;5;21mwrapper\u001b[39m(\u001b[38;5;241m*\u001b[39margs: Any, \u001b[38;5;241m*\u001b[39m\u001b[38;5;241m*\u001b[39mkwargs: Any) \u001b[38;5;241m-\u001b[39m\u001b[38;5;241m>\u001b[39m Any:\n\u001b[0;32m---> 23\u001b[0m     \u001b[38;5;28;01mreturn\u001b[39;00m \u001b[43mfunc\u001b[49m\u001b[43m(\u001b[49m\u001b[38;5;241;43m*\u001b[39;49m\u001b[43margs\u001b[49m\u001b[43m,\u001b[49m\u001b[43m \u001b[49m\u001b[38;5;241;43m*\u001b[39;49m\u001b[38;5;241;43m*\u001b[39;49m\u001b[43mkwargs\u001b[49m\u001b[43m)\u001b[49m\n",
      "File \u001b[0;32m~/Documents/GitHub/pgvector-python/venv/lib/python3.12/site-packages/chromadb/api/segment.py:226\u001b[0m, in \u001b[0;36mSegmentAPI.create_collection\u001b[0;34m(self, name, configuration, metadata, get_or_create, tenant, database)\u001b[0m\n\u001b[1;32m    213\u001b[0m model \u001b[38;5;241m=\u001b[39m CollectionModel(\n\u001b[1;32m    214\u001b[0m     \u001b[38;5;28mid\u001b[39m\u001b[38;5;241m=\u001b[39m\u001b[38;5;28mid\u001b[39m,\n\u001b[1;32m    215\u001b[0m     name\u001b[38;5;241m=\u001b[39mname,\n\u001b[0;32m   (...)\u001b[0m\n\u001b[1;32m    222\u001b[0m     dimension\u001b[38;5;241m=\u001b[39m\u001b[38;5;28;01mNone\u001b[39;00m,\n\u001b[1;32m    223\u001b[0m )\n\u001b[1;32m    225\u001b[0m \u001b[38;5;66;03m# TODO: Let sysdb create the collection directly from the model\u001b[39;00m\n\u001b[0;32m--> 226\u001b[0m coll, created \u001b[38;5;241m=\u001b[39m \u001b[38;5;28;43mself\u001b[39;49m\u001b[38;5;241;43m.\u001b[39;49m\u001b[43m_sysdb\u001b[49m\u001b[38;5;241;43m.\u001b[39;49m\u001b[43mcreate_collection\u001b[49m\u001b[43m(\u001b[49m\n\u001b[1;32m    227\u001b[0m \u001b[43m    \u001b[49m\u001b[38;5;28;43mid\u001b[39;49m\u001b[38;5;241;43m=\u001b[39;49m\u001b[43mmodel\u001b[49m\u001b[38;5;241;43m.\u001b[39;49m\u001b[43mid\u001b[49m\u001b[43m,\u001b[49m\n\u001b[1;32m    228\u001b[0m \u001b[43m    \u001b[49m\u001b[43mname\u001b[49m\u001b[38;5;241;43m=\u001b[39;49m\u001b[43mmodel\u001b[49m\u001b[38;5;241;43m.\u001b[39;49m\u001b[43mname\u001b[49m\u001b[43m,\u001b[49m\n\u001b[1;32m    229\u001b[0m \u001b[43m    \u001b[49m\u001b[43mconfiguration\u001b[49m\u001b[38;5;241;43m=\u001b[39;49m\u001b[43mmodel\u001b[49m\u001b[38;5;241;43m.\u001b[39;49m\u001b[43mget_configuration\u001b[49m\u001b[43m(\u001b[49m\u001b[43m)\u001b[49m\u001b[43m,\u001b[49m\n\u001b[1;32m    230\u001b[0m \u001b[43m    \u001b[49m\u001b[43msegments\u001b[49m\u001b[38;5;241;43m=\u001b[39;49m\u001b[43m[\u001b[49m\u001b[43m]\u001b[49m\u001b[43m,\u001b[49m\u001b[43m \u001b[49m\u001b[38;5;66;43;03m# Passing empty till backend changes are deployed.\u001b[39;49;00m\n\u001b[1;32m    231\u001b[0m \u001b[43m    \u001b[49m\u001b[43mmetadata\u001b[49m\u001b[38;5;241;43m=\u001b[39;49m\u001b[43mmodel\u001b[49m\u001b[38;5;241;43m.\u001b[39;49m\u001b[43mmetadata\u001b[49m\u001b[43m,\u001b[49m\n\u001b[1;32m    232\u001b[0m \u001b[43m    \u001b[49m\u001b[43mdimension\u001b[49m\u001b[38;5;241;43m=\u001b[39;49m\u001b[38;5;28;43;01mNone\u001b[39;49;00m\u001b[43m,\u001b[49m\u001b[43m  \u001b[49m\u001b[38;5;66;43;03m# This is lazily populated on the first add\u001b[39;49;00m\n\u001b[1;32m    233\u001b[0m \u001b[43m    \u001b[49m\u001b[43mget_or_create\u001b[49m\u001b[38;5;241;43m=\u001b[39;49m\u001b[43mget_or_create\u001b[49m\u001b[43m,\u001b[49m\n\u001b[1;32m    234\u001b[0m \u001b[43m    \u001b[49m\u001b[43mtenant\u001b[49m\u001b[38;5;241;43m=\u001b[39;49m\u001b[43mtenant\u001b[49m\u001b[43m,\u001b[49m\n\u001b[1;32m    235\u001b[0m \u001b[43m    \u001b[49m\u001b[43mdatabase\u001b[49m\u001b[38;5;241;43m=\u001b[39;49m\u001b[43mdatabase\u001b[49m\u001b[43m,\u001b[49m\n\u001b[1;32m    236\u001b[0m \u001b[43m\u001b[49m\u001b[43m)\u001b[49m\n\u001b[1;32m    238\u001b[0m \u001b[38;5;28;01mif\u001b[39;00m created:\n\u001b[1;32m    239\u001b[0m     segments \u001b[38;5;241m=\u001b[39m \u001b[38;5;28mself\u001b[39m\u001b[38;5;241m.\u001b[39m_manager\u001b[38;5;241m.\u001b[39mprepare_segments_for_new_collection(coll)\n",
      "File \u001b[0;32m~/Documents/GitHub/pgvector-python/venv/lib/python3.12/site-packages/chromadb/telemetry/opentelemetry/__init__.py:150\u001b[0m, in \u001b[0;36mtrace_method.<locals>.decorator.<locals>.wrapper\u001b[0;34m(*args, **kwargs)\u001b[0m\n\u001b[1;32m    148\u001b[0m \u001b[38;5;28;01mglobal\u001b[39;00m tracer, granularity\n\u001b[1;32m    149\u001b[0m \u001b[38;5;28;01mif\u001b[39;00m trace_granularity \u001b[38;5;241m<\u001b[39m granularity:\n\u001b[0;32m--> 150\u001b[0m     \u001b[38;5;28;01mreturn\u001b[39;00m \u001b[43mf\u001b[49m\u001b[43m(\u001b[49m\u001b[38;5;241;43m*\u001b[39;49m\u001b[43margs\u001b[49m\u001b[43m,\u001b[49m\u001b[43m \u001b[49m\u001b[38;5;241;43m*\u001b[39;49m\u001b[38;5;241;43m*\u001b[39;49m\u001b[43mkwargs\u001b[49m\u001b[43m)\u001b[49m\n\u001b[1;32m    151\u001b[0m \u001b[38;5;28;01mif\u001b[39;00m \u001b[38;5;129;01mnot\u001b[39;00m tracer:\n\u001b[1;32m    152\u001b[0m     \u001b[38;5;28;01mreturn\u001b[39;00m f(\u001b[38;5;241m*\u001b[39margs, \u001b[38;5;241m*\u001b[39m\u001b[38;5;241m*\u001b[39mkwargs)\n",
      "File \u001b[0;32m~/Documents/GitHub/pgvector-python/venv/lib/python3.12/site-packages/chromadb/db/mixins/sysdb.py:283\u001b[0m, in \u001b[0;36mSqlSysDB.create_collection\u001b[0;34m(self, id, name, configuration, segments, metadata, dimension, get_or_create, tenant, database)\u001b[0m\n\u001b[1;32m    281\u001b[0m sql, params \u001b[38;5;241m=\u001b[39m get_sql(insert_collection, \u001b[38;5;28mself\u001b[39m\u001b[38;5;241m.\u001b[39mparameter_format())\n\u001b[1;32m    282\u001b[0m \u001b[38;5;28;01mtry\u001b[39;00m:\n\u001b[0;32m--> 283\u001b[0m     \u001b[43mcur\u001b[49m\u001b[38;5;241;43m.\u001b[39;49m\u001b[43mexecute\u001b[49m\u001b[43m(\u001b[49m\u001b[43msql\u001b[49m\u001b[43m,\u001b[49m\u001b[43m \u001b[49m\u001b[43mparams\u001b[49m\u001b[43m)\u001b[49m\n\u001b[1;32m    284\u001b[0m \u001b[38;5;28;01mexcept\u001b[39;00m \u001b[38;5;28mself\u001b[39m\u001b[38;5;241m.\u001b[39munique_constraint_error() \u001b[38;5;28;01mas\u001b[39;00m e:\n\u001b[1;32m    285\u001b[0m     \u001b[38;5;28;01mraise\u001b[39;00m UniqueConstraintError(\n\u001b[1;32m    286\u001b[0m         \u001b[38;5;124mf\u001b[39m\u001b[38;5;124m\"\u001b[39m\u001b[38;5;124mCollection \u001b[39m\u001b[38;5;132;01m{\u001b[39;00mcollection[\u001b[38;5;124m'\u001b[39m\u001b[38;5;124mid\u001b[39m\u001b[38;5;124m'\u001b[39m]\u001b[38;5;132;01m}\u001b[39;00m\u001b[38;5;124m already exists\u001b[39m\u001b[38;5;124m\"\u001b[39m\n\u001b[1;32m    287\u001b[0m     ) \u001b[38;5;28;01mfrom\u001b[39;00m \u001b[38;5;21;01me\u001b[39;00m\n",
      "\u001b[0;31mOperationalError\u001b[0m: attempt to write a readonly database"
     ]
    }
   ],
   "source": [
    "collection = client.create_collection(name=\"new_collection\", embedding_function=openai_ef)\n",
    "client.list_collections()\n"
   ]
  },
  {
   "cell_type": "code",
   "execution_count": 24,
   "metadata": {},
   "outputs": [
    {
     "data": {
      "text/plain": [
       "[Collection(name=test)]"
      ]
     },
     "execution_count": 24,
     "metadata": {},
     "output_type": "execute_result"
    }
   ],
   "source": [
    "client.delete_collection(name=\"new_collection\")\n",
    "client.list_collections()"
   ]
  },
  {
   "cell_type": "code",
   "execution_count": 26,
   "metadata": {},
   "outputs": [],
   "source": [
    "# collection = client.get_collection(name=\"test\") # Get a collection object from an existing collection, by name. Will raise an exception if it's not found.\n",
    "collection = client.get_or_create_collection(name=\"test\") # Get a collection object from an existing collection, by name. If it doesn't exist, create it."
   ]
  },
  {
   "cell_type": "code",
   "execution_count": 27,
   "metadata": {},
   "outputs": [
    {
     "data": {
      "text/plain": [
       "Collection(id=UUID('9e99b2a9-44c7-4189-b2ea-c9b074d6574f'), name='test', configuration_json={'hnsw_configuration': {'space': 'l2', 'ef_construction': 100, 'ef_search': 10, 'num_threads': 14, 'M': 16, 'resize_factor': 1.2, 'batch_size': 100, 'sync_threshold': 1000, '_type': 'HNSWConfigurationInternal'}, '_type': 'CollectionConfigurationInternal'}, metadata=None, dimension=None, tenant='default_tenant', database='default_database', version=0, log_position=0)"
      ]
     },
     "execution_count": 27,
     "metadata": {},
     "output_type": "execute_result"
    }
   ],
   "source": [
    "collection.get_model()"
   ]
  },
  {
   "cell_type": "code",
   "execution_count": 28,
   "metadata": {},
   "outputs": [
    {
     "data": {
      "text/plain": [
       "{'ids': [],\n",
       " 'embeddings': array([], dtype=float64),\n",
       " 'documents': [],\n",
       " 'uris': None,\n",
       " 'data': None,\n",
       " 'metadatas': [],\n",
       " 'included': [<IncludeEnum.embeddings: 'embeddings'>,\n",
       "  <IncludeEnum.documents: 'documents'>,\n",
       "  <IncludeEnum.metadatas: 'metadatas'>]}"
      ]
     },
     "execution_count": 28,
     "metadata": {},
     "output_type": "execute_result"
    }
   ],
   "source": [
    "collection.peek() # returns a list of the first 10 items in the collection"
   ]
  },
  {
   "cell_type": "code",
   "execution_count": 29,
   "metadata": {},
   "outputs": [
    {
     "data": {
      "text/plain": [
       "0"
      ]
     },
     "execution_count": 29,
     "metadata": {},
     "output_type": "execute_result"
    }
   ],
   "source": [
    "collection.count() # returns the number of items in the collection"
   ]
  },
  {
   "cell_type": "code",
   "execution_count": 30,
   "metadata": {},
   "outputs": [],
   "source": [
    "collection.modify(name=\"mytest\") # Rename the collection: 'test'->'mytest'"
   ]
  },
  {
   "cell_type": "code",
   "execution_count": 31,
   "metadata": {},
   "outputs": [
    {
     "data": {
      "text/plain": [
       "[Collection(name=mytest)]"
      ]
     },
     "execution_count": 31,
     "metadata": {},
     "output_type": "execute_result"
    }
   ],
   "source": [
    "client.list_collections()"
   ]
  },
  {
   "cell_type": "code",
   "execution_count": 32,
   "metadata": {},
   "outputs": [],
   "source": [
    "client.delete_collection(name=\"mytest\") "
   ]
  },
  {
   "cell_type": "markdown",
   "metadata": {},
   "source": [
    "### Changing the distance function"
   ]
  },
  {
   "cell_type": "code",
   "execution_count": 98,
   "metadata": {},
   "outputs": [
    {
     "ename": "UniqueConstraintError",
     "evalue": "Collection test already exists",
     "output_type": "error",
     "traceback": [
      "\u001b[0;31m---------------------------------------------------------------------------\u001b[0m",
      "\u001b[0;31mUniqueConstraintError\u001b[0m                     Traceback (most recent call last)",
      "Cell \u001b[0;32mIn[98], line 2\u001b[0m\n\u001b[1;32m      1\u001b[0m \u001b[38;5;66;03m# create_collection에서 metadata를 통해 거리계산방식을 지정할 수 있다\u001b[39;00m\n\u001b[0;32m----> 2\u001b[0m collection \u001b[38;5;241m=\u001b[39m \u001b[43mclient\u001b[49m\u001b[38;5;241;43m.\u001b[39;49m\u001b[43mcreate_collection\u001b[49m\u001b[43m(\u001b[49m\n\u001b[1;32m      3\u001b[0m \u001b[43m        \u001b[49m\u001b[43mname\u001b[49m\u001b[38;5;241;43m=\u001b[39;49m\u001b[38;5;124;43m\"\u001b[39;49m\u001b[38;5;124;43mtest\u001b[39;49m\u001b[38;5;124;43m\"\u001b[39;49m\u001b[43m,\u001b[49m\n\u001b[1;32m      4\u001b[0m \u001b[43m        \u001b[49m\u001b[43mmetadata\u001b[49m\u001b[38;5;241;43m=\u001b[39;49m\u001b[43m{\u001b[49m\u001b[38;5;124;43m\"\u001b[39;49m\u001b[38;5;124;43mhnsw:space\u001b[39;49m\u001b[38;5;124;43m\"\u001b[39;49m\u001b[43m:\u001b[49m\u001b[43m \u001b[49m\u001b[38;5;124;43m\"\u001b[39;49m\u001b[38;5;124;43mcosine\u001b[39;49m\u001b[38;5;124;43m\"\u001b[39;49m\u001b[43m}\u001b[49m\u001b[43m,\u001b[49m\u001b[43m \u001b[49m\u001b[38;5;66;43;03m# l2 is the default\u001b[39;49;00m\n\u001b[1;32m      5\u001b[0m \u001b[43m        \u001b[49m\u001b[43membedding_function\u001b[49m\u001b[38;5;241;43m=\u001b[39;49m\u001b[43mopenai_ef\u001b[49m\n\u001b[1;32m      6\u001b[0m \u001b[43m)\u001b[49m\n",
      "File \u001b[0;32m~/Documents/GitHub/pgvector-python/venv/lib/python3.12/site-packages/chromadb/api/client.py:147\u001b[0m, in \u001b[0;36mClient.create_collection\u001b[0;34m(self, name, configuration, metadata, embedding_function, data_loader, get_or_create)\u001b[0m\n\u001b[1;32m    135\u001b[0m \u001b[38;5;129m@override\u001b[39m\n\u001b[1;32m    136\u001b[0m \u001b[38;5;28;01mdef\u001b[39;00m \u001b[38;5;21mcreate_collection\u001b[39m(\n\u001b[1;32m    137\u001b[0m     \u001b[38;5;28mself\u001b[39m,\n\u001b[0;32m   (...)\u001b[0m\n\u001b[1;32m    145\u001b[0m     get_or_create: \u001b[38;5;28mbool\u001b[39m \u001b[38;5;241m=\u001b[39m \u001b[38;5;28;01mFalse\u001b[39;00m,\n\u001b[1;32m    146\u001b[0m ) \u001b[38;5;241m-\u001b[39m\u001b[38;5;241m>\u001b[39m Collection:\n\u001b[0;32m--> 147\u001b[0m     model \u001b[38;5;241m=\u001b[39m \u001b[38;5;28;43mself\u001b[39;49m\u001b[38;5;241;43m.\u001b[39;49m\u001b[43m_server\u001b[49m\u001b[38;5;241;43m.\u001b[39;49m\u001b[43mcreate_collection\u001b[49m\u001b[43m(\u001b[49m\n\u001b[1;32m    148\u001b[0m \u001b[43m        \u001b[49m\u001b[43mname\u001b[49m\u001b[38;5;241;43m=\u001b[39;49m\u001b[43mname\u001b[49m\u001b[43m,\u001b[49m\n\u001b[1;32m    149\u001b[0m \u001b[43m        \u001b[49m\u001b[43mmetadata\u001b[49m\u001b[38;5;241;43m=\u001b[39;49m\u001b[43mmetadata\u001b[49m\u001b[43m,\u001b[49m\n\u001b[1;32m    150\u001b[0m \u001b[43m        \u001b[49m\u001b[43mtenant\u001b[49m\u001b[38;5;241;43m=\u001b[39;49m\u001b[38;5;28;43mself\u001b[39;49m\u001b[38;5;241;43m.\u001b[39;49m\u001b[43mtenant\u001b[49m\u001b[43m,\u001b[49m\n\u001b[1;32m    151\u001b[0m \u001b[43m        \u001b[49m\u001b[43mdatabase\u001b[49m\u001b[38;5;241;43m=\u001b[39;49m\u001b[38;5;28;43mself\u001b[39;49m\u001b[38;5;241;43m.\u001b[39;49m\u001b[43mdatabase\u001b[49m\u001b[43m,\u001b[49m\n\u001b[1;32m    152\u001b[0m \u001b[43m        \u001b[49m\u001b[43mget_or_create\u001b[49m\u001b[38;5;241;43m=\u001b[39;49m\u001b[43mget_or_create\u001b[49m\u001b[43m,\u001b[49m\n\u001b[1;32m    153\u001b[0m \u001b[43m        \u001b[49m\u001b[43mconfiguration\u001b[49m\u001b[38;5;241;43m=\u001b[39;49m\u001b[43mconfiguration\u001b[49m\u001b[43m,\u001b[49m\n\u001b[1;32m    154\u001b[0m \u001b[43m    \u001b[49m\u001b[43m)\u001b[49m\n\u001b[1;32m    155\u001b[0m     \u001b[38;5;28;01mreturn\u001b[39;00m Collection(\n\u001b[1;32m    156\u001b[0m         client\u001b[38;5;241m=\u001b[39m\u001b[38;5;28mself\u001b[39m\u001b[38;5;241m.\u001b[39m_server,\n\u001b[1;32m    157\u001b[0m         model\u001b[38;5;241m=\u001b[39mmodel,\n\u001b[1;32m    158\u001b[0m         embedding_function\u001b[38;5;241m=\u001b[39membedding_function,\n\u001b[1;32m    159\u001b[0m         data_loader\u001b[38;5;241m=\u001b[39mdata_loader,\n\u001b[1;32m    160\u001b[0m     )\n",
      "File \u001b[0;32m~/Documents/GitHub/pgvector-python/venv/lib/python3.12/site-packages/chromadb/telemetry/opentelemetry/__init__.py:150\u001b[0m, in \u001b[0;36mtrace_method.<locals>.decorator.<locals>.wrapper\u001b[0;34m(*args, **kwargs)\u001b[0m\n\u001b[1;32m    148\u001b[0m \u001b[38;5;28;01mglobal\u001b[39;00m tracer, granularity\n\u001b[1;32m    149\u001b[0m \u001b[38;5;28;01mif\u001b[39;00m trace_granularity \u001b[38;5;241m<\u001b[39m granularity:\n\u001b[0;32m--> 150\u001b[0m     \u001b[38;5;28;01mreturn\u001b[39;00m \u001b[43mf\u001b[49m\u001b[43m(\u001b[49m\u001b[38;5;241;43m*\u001b[39;49m\u001b[43margs\u001b[49m\u001b[43m,\u001b[49m\u001b[43m \u001b[49m\u001b[38;5;241;43m*\u001b[39;49m\u001b[38;5;241;43m*\u001b[39;49m\u001b[43mkwargs\u001b[49m\u001b[43m)\u001b[49m\n\u001b[1;32m    151\u001b[0m \u001b[38;5;28;01mif\u001b[39;00m \u001b[38;5;129;01mnot\u001b[39;00m tracer:\n\u001b[1;32m    152\u001b[0m     \u001b[38;5;28;01mreturn\u001b[39;00m f(\u001b[38;5;241m*\u001b[39margs, \u001b[38;5;241m*\u001b[39m\u001b[38;5;241m*\u001b[39mkwargs)\n",
      "File \u001b[0;32m~/Documents/GitHub/pgvector-python/venv/lib/python3.12/site-packages/chromadb/api/segment.py:103\u001b[0m, in \u001b[0;36mrate_limit.<locals>.wrapper\u001b[0;34m(*args, **kwargs)\u001b[0m\n\u001b[1;32m    100\u001b[0m \u001b[38;5;129m@wraps\u001b[39m(func)\n\u001b[1;32m    101\u001b[0m \u001b[38;5;28;01mdef\u001b[39;00m \u001b[38;5;21mwrapper\u001b[39m(\u001b[38;5;241m*\u001b[39margs: Any, \u001b[38;5;241m*\u001b[39m\u001b[38;5;241m*\u001b[39mkwargs: Any) \u001b[38;5;241m-\u001b[39m\u001b[38;5;241m>\u001b[39m Any:\n\u001b[1;32m    102\u001b[0m     \u001b[38;5;28mself\u001b[39m \u001b[38;5;241m=\u001b[39m args[\u001b[38;5;241m0\u001b[39m]\n\u001b[0;32m--> 103\u001b[0m     \u001b[38;5;28;01mreturn\u001b[39;00m \u001b[38;5;28;43mself\u001b[39;49m\u001b[38;5;241;43m.\u001b[39;49m\u001b[43m_rate_limit_enforcer\u001b[49m\u001b[38;5;241;43m.\u001b[39;49m\u001b[43mrate_limit\u001b[49m\u001b[43m(\u001b[49m\u001b[43mfunc\u001b[49m\u001b[43m)\u001b[49m\u001b[43m(\u001b[49m\u001b[38;5;241;43m*\u001b[39;49m\u001b[43margs\u001b[49m\u001b[43m,\u001b[49m\u001b[43m \u001b[49m\u001b[38;5;241;43m*\u001b[39;49m\u001b[38;5;241;43m*\u001b[39;49m\u001b[43mkwargs\u001b[49m\u001b[43m)\u001b[49m\n",
      "File \u001b[0;32m~/Documents/GitHub/pgvector-python/venv/lib/python3.12/site-packages/chromadb/rate_limit/simple_rate_limit/__init__.py:23\u001b[0m, in \u001b[0;36mSimpleRateLimitEnforcer.rate_limit.<locals>.wrapper\u001b[0;34m(*args, **kwargs)\u001b[0m\n\u001b[1;32m     21\u001b[0m \u001b[38;5;129m@wraps\u001b[39m(func)\n\u001b[1;32m     22\u001b[0m \u001b[38;5;28;01mdef\u001b[39;00m \u001b[38;5;21mwrapper\u001b[39m(\u001b[38;5;241m*\u001b[39margs: Any, \u001b[38;5;241m*\u001b[39m\u001b[38;5;241m*\u001b[39mkwargs: Any) \u001b[38;5;241m-\u001b[39m\u001b[38;5;241m>\u001b[39m Any:\n\u001b[0;32m---> 23\u001b[0m     \u001b[38;5;28;01mreturn\u001b[39;00m \u001b[43mfunc\u001b[49m\u001b[43m(\u001b[49m\u001b[38;5;241;43m*\u001b[39;49m\u001b[43margs\u001b[49m\u001b[43m,\u001b[49m\u001b[43m \u001b[49m\u001b[38;5;241;43m*\u001b[39;49m\u001b[38;5;241;43m*\u001b[39;49m\u001b[43mkwargs\u001b[49m\u001b[43m)\u001b[49m\n",
      "File \u001b[0;32m~/Documents/GitHub/pgvector-python/venv/lib/python3.12/site-packages/chromadb/api/segment.py:226\u001b[0m, in \u001b[0;36mSegmentAPI.create_collection\u001b[0;34m(self, name, configuration, metadata, get_or_create, tenant, database)\u001b[0m\n\u001b[1;32m    213\u001b[0m model \u001b[38;5;241m=\u001b[39m CollectionModel(\n\u001b[1;32m    214\u001b[0m     \u001b[38;5;28mid\u001b[39m\u001b[38;5;241m=\u001b[39m\u001b[38;5;28mid\u001b[39m,\n\u001b[1;32m    215\u001b[0m     name\u001b[38;5;241m=\u001b[39mname,\n\u001b[0;32m   (...)\u001b[0m\n\u001b[1;32m    222\u001b[0m     dimension\u001b[38;5;241m=\u001b[39m\u001b[38;5;28;01mNone\u001b[39;00m,\n\u001b[1;32m    223\u001b[0m )\n\u001b[1;32m    225\u001b[0m \u001b[38;5;66;03m# TODO: Let sysdb create the collection directly from the model\u001b[39;00m\n\u001b[0;32m--> 226\u001b[0m coll, created \u001b[38;5;241m=\u001b[39m \u001b[38;5;28;43mself\u001b[39;49m\u001b[38;5;241;43m.\u001b[39;49m\u001b[43m_sysdb\u001b[49m\u001b[38;5;241;43m.\u001b[39;49m\u001b[43mcreate_collection\u001b[49m\u001b[43m(\u001b[49m\n\u001b[1;32m    227\u001b[0m \u001b[43m    \u001b[49m\u001b[38;5;28;43mid\u001b[39;49m\u001b[38;5;241;43m=\u001b[39;49m\u001b[43mmodel\u001b[49m\u001b[38;5;241;43m.\u001b[39;49m\u001b[43mid\u001b[49m\u001b[43m,\u001b[49m\n\u001b[1;32m    228\u001b[0m \u001b[43m    \u001b[49m\u001b[43mname\u001b[49m\u001b[38;5;241;43m=\u001b[39;49m\u001b[43mmodel\u001b[49m\u001b[38;5;241;43m.\u001b[39;49m\u001b[43mname\u001b[49m\u001b[43m,\u001b[49m\n\u001b[1;32m    229\u001b[0m \u001b[43m    \u001b[49m\u001b[43mconfiguration\u001b[49m\u001b[38;5;241;43m=\u001b[39;49m\u001b[43mmodel\u001b[49m\u001b[38;5;241;43m.\u001b[39;49m\u001b[43mget_configuration\u001b[49m\u001b[43m(\u001b[49m\u001b[43m)\u001b[49m\u001b[43m,\u001b[49m\n\u001b[1;32m    230\u001b[0m \u001b[43m    \u001b[49m\u001b[43msegments\u001b[49m\u001b[38;5;241;43m=\u001b[39;49m\u001b[43m[\u001b[49m\u001b[43m]\u001b[49m\u001b[43m,\u001b[49m\u001b[43m \u001b[49m\u001b[38;5;66;43;03m# Passing empty till backend changes are deployed.\u001b[39;49;00m\n\u001b[1;32m    231\u001b[0m \u001b[43m    \u001b[49m\u001b[43mmetadata\u001b[49m\u001b[38;5;241;43m=\u001b[39;49m\u001b[43mmodel\u001b[49m\u001b[38;5;241;43m.\u001b[39;49m\u001b[43mmetadata\u001b[49m\u001b[43m,\u001b[49m\n\u001b[1;32m    232\u001b[0m \u001b[43m    \u001b[49m\u001b[43mdimension\u001b[49m\u001b[38;5;241;43m=\u001b[39;49m\u001b[38;5;28;43;01mNone\u001b[39;49;00m\u001b[43m,\u001b[49m\u001b[43m  \u001b[49m\u001b[38;5;66;43;03m# This is lazily populated on the first add\u001b[39;49;00m\n\u001b[1;32m    233\u001b[0m \u001b[43m    \u001b[49m\u001b[43mget_or_create\u001b[49m\u001b[38;5;241;43m=\u001b[39;49m\u001b[43mget_or_create\u001b[49m\u001b[43m,\u001b[49m\n\u001b[1;32m    234\u001b[0m \u001b[43m    \u001b[49m\u001b[43mtenant\u001b[49m\u001b[38;5;241;43m=\u001b[39;49m\u001b[43mtenant\u001b[49m\u001b[43m,\u001b[49m\n\u001b[1;32m    235\u001b[0m \u001b[43m    \u001b[49m\u001b[43mdatabase\u001b[49m\u001b[38;5;241;43m=\u001b[39;49m\u001b[43mdatabase\u001b[49m\u001b[43m,\u001b[49m\n\u001b[1;32m    236\u001b[0m \u001b[43m\u001b[49m\u001b[43m)\u001b[49m\n\u001b[1;32m    238\u001b[0m \u001b[38;5;28;01mif\u001b[39;00m created:\n\u001b[1;32m    239\u001b[0m     segments \u001b[38;5;241m=\u001b[39m \u001b[38;5;28mself\u001b[39m\u001b[38;5;241m.\u001b[39m_manager\u001b[38;5;241m.\u001b[39mprepare_segments_for_new_collection(coll)\n",
      "File \u001b[0;32m~/Documents/GitHub/pgvector-python/venv/lib/python3.12/site-packages/chromadb/telemetry/opentelemetry/__init__.py:150\u001b[0m, in \u001b[0;36mtrace_method.<locals>.decorator.<locals>.wrapper\u001b[0;34m(*args, **kwargs)\u001b[0m\n\u001b[1;32m    148\u001b[0m \u001b[38;5;28;01mglobal\u001b[39;00m tracer, granularity\n\u001b[1;32m    149\u001b[0m \u001b[38;5;28;01mif\u001b[39;00m trace_granularity \u001b[38;5;241m<\u001b[39m granularity:\n\u001b[0;32m--> 150\u001b[0m     \u001b[38;5;28;01mreturn\u001b[39;00m \u001b[43mf\u001b[49m\u001b[43m(\u001b[49m\u001b[38;5;241;43m*\u001b[39;49m\u001b[43margs\u001b[49m\u001b[43m,\u001b[49m\u001b[43m \u001b[49m\u001b[38;5;241;43m*\u001b[39;49m\u001b[38;5;241;43m*\u001b[39;49m\u001b[43mkwargs\u001b[49m\u001b[43m)\u001b[49m\n\u001b[1;32m    151\u001b[0m \u001b[38;5;28;01mif\u001b[39;00m \u001b[38;5;129;01mnot\u001b[39;00m tracer:\n\u001b[1;32m    152\u001b[0m     \u001b[38;5;28;01mreturn\u001b[39;00m f(\u001b[38;5;241m*\u001b[39margs, \u001b[38;5;241m*\u001b[39m\u001b[38;5;241m*\u001b[39mkwargs)\n",
      "File \u001b[0;32m~/Documents/GitHub/pgvector-python/venv/lib/python3.12/site-packages/chromadb/db/mixins/sysdb.py:241\u001b[0m, in \u001b[0;36mSqlSysDB.create_collection\u001b[0;34m(self, id, name, configuration, segments, metadata, dimension, get_or_create, tenant, database)\u001b[0m\n\u001b[1;32m    234\u001b[0m         \u001b[38;5;28;01mreturn\u001b[39;00m (\n\u001b[1;32m    235\u001b[0m             \u001b[38;5;28mself\u001b[39m\u001b[38;5;241m.\u001b[39mget_collections(\n\u001b[1;32m    236\u001b[0m                 \u001b[38;5;28mid\u001b[39m\u001b[38;5;241m=\u001b[39mcollection\u001b[38;5;241m.\u001b[39mid, tenant\u001b[38;5;241m=\u001b[39mtenant, database\u001b[38;5;241m=\u001b[39mdatabase\n\u001b[1;32m    237\u001b[0m             )[\u001b[38;5;241m0\u001b[39m],\n\u001b[1;32m    238\u001b[0m             \u001b[38;5;28;01mFalse\u001b[39;00m,\n\u001b[1;32m    239\u001b[0m         )\n\u001b[1;32m    240\u001b[0m     \u001b[38;5;28;01melse\u001b[39;00m:\n\u001b[0;32m--> 241\u001b[0m         \u001b[38;5;28;01mraise\u001b[39;00m UniqueConstraintError(\u001b[38;5;124mf\u001b[39m\u001b[38;5;124m\"\u001b[39m\u001b[38;5;124mCollection \u001b[39m\u001b[38;5;132;01m{\u001b[39;00mname\u001b[38;5;132;01m}\u001b[39;00m\u001b[38;5;124m already exists\u001b[39m\u001b[38;5;124m\"\u001b[39m)\n\u001b[1;32m    243\u001b[0m collection \u001b[38;5;241m=\u001b[39m Collection(\n\u001b[1;32m    244\u001b[0m     \u001b[38;5;28mid\u001b[39m\u001b[38;5;241m=\u001b[39m\u001b[38;5;28mid\u001b[39m,\n\u001b[1;32m    245\u001b[0m     name\u001b[38;5;241m=\u001b[39mname,\n\u001b[0;32m   (...)\u001b[0m\n\u001b[1;32m    251\u001b[0m     version\u001b[38;5;241m=\u001b[39m\u001b[38;5;241m0\u001b[39m,\n\u001b[1;32m    252\u001b[0m )\n\u001b[1;32m    254\u001b[0m \u001b[38;5;28;01mwith\u001b[39;00m \u001b[38;5;28mself\u001b[39m\u001b[38;5;241m.\u001b[39mtx() \u001b[38;5;28;01mas\u001b[39;00m cur:\n",
      "\u001b[0;31mUniqueConstraintError\u001b[0m: Collection test already exists"
     ]
    }
   ],
   "source": [
    "# create_collection에서 metadata를 통해 거리계산방식을 지정할 수 있다\n",
    "collection = client.create_collection(\n",
    "        name=\"test\",\n",
    "        metadata={\"hnsw:space\": \"cosine\"}, # l2 is the default\n",
    "        embedding_function=openai_ef\n",
    ")"
   ]
  },
  {
   "cell_type": "code",
   "execution_count": null,
   "metadata": {},
   "outputs": [],
   "source": [
    "# client.delete_collection(name=\"hnsw_test\")"
   ]
  },
  {
   "cell_type": "code",
   "execution_count": 41,
   "metadata": {},
   "outputs": [],
   "source": [
    "# \"hnsw:space\" - 거리 측정방식을 지정. \"l2\", \"ip\", \"cosine\". 디폴트는 \"l2\".\n",
    "# \"hnsw:construction_df\" - 인덱스를 생성할 때 고려하는 후보 이웃의 수를 지정. 양의 정수. 디폴트는 100.\n",
    "# \"hnsw:M\" - 그래프에서 각 노드가 가질 수 있는 최대 연결(이웃 노드)의 개수. 2~100. 디폴트는 16.\n",
    "# \"hnsw:search_ef\" - 검색할 때 고려하는 이웃의 개수. 양의 정수. 디폴트는 10. 콜렉션 생성 이후에도 수정 가능.\n",
    "# \"hnsw:num_threads\" -  HNSW 알고리즘이 사용하는 쓰레드의 개수. 양의 정수. 디폴트는 CPU 코어수. 콜렉션 생성 이후에도 수정 가능.\n",
    "# \"hnsw:resize_factor\" - 인덱스 내부 데이터 구조가 확장될 때의 크기 배율. 양의 정수. 디폴트는 1.2. 콜렉션 생성 이후에도 수정 가능. \n",
    "# \"hnsw:batch_size\" - 인덱스에 데이터를 추가하거나 검색할 때 한 번에 처리할 데이터의 양. 양수 < sync_threshold. 디폴트는 1.2. 콜렉션 생성 이후에도 수정 가능. \n",
    "# \"hnsw:sync_threshold\" - 인덱스의 변경 사항을 디스크에 동기화할 빈도. 양수. 디폴트는 1000. 콜렉션 생성 이후에도 수정 가능. \n",
    "\n",
    "collection = client.create_collection(\n",
    "        name=\"hnsw_test\",\n",
    "        metadata={\n",
    "            \"hnsw:space\": \"cosine\",\n",
    "            \"hnsw:construction_ef\":100,\n",
    "            \"hnsw:M\":16,\n",
    "            \"hnsw:search_ef\":10,\n",
    "            \"hnsw:num_threads\":4,\n",
    "            \"hnsw:resize_factor\":1.2,\n",
    "            \"hnsw:batch_size\":100,\n",
    "            \"hnsw:sync_threshold\":1000\n",
    "        }, # l2 is the default\n",
    "        embedding_function=openai_ef\n",
    ")\n",
    "\n",
    "# configure_collection.py Line 117 metadata 딕셔너리의 value 값을 수정"
   ]
  },
  {
   "cell_type": "code",
   "execution_count": 42,
   "metadata": {},
   "outputs": [
    {
     "data": {
      "text/plain": [
       "[Collection(name=test), Collection(name=hnsw_test)]"
      ]
     },
     "execution_count": 42,
     "metadata": {},
     "output_type": "execute_result"
    }
   ],
   "source": [
    "client.list_collections()"
   ]
  },
  {
   "cell_type": "code",
   "execution_count": 43,
   "metadata": {},
   "outputs": [
    {
     "data": {
      "text/plain": [
       "Collection(id=UUID('d414e4b7-775a-4659-af0d-32f87f38ee4e'), name='hnsw_test', configuration_json={'hnsw_configuration': {'space': 'l2', 'ef_construction': 100, 'ef_search': 10, 'num_threads': 14, 'M': 16, 'resize_factor': 1.2, 'batch_size': 100, 'sync_threshold': 1000, '_type': 'HNSWConfigurationInternal'}, '_type': 'CollectionConfigurationInternal'}, metadata={'hnsw:space': 'cosine', 'hnsw:construction_ef': 100, 'hnsw:M': 16, 'hnsw:search_ef': 10, 'hnsw:num_threads': 4, 'hnsw:resize_factor': 1.2, 'hnsw:batch_size': 100, 'hnsw:sync_threshold': 1000}, dimension=None, tenant='default_tenant', database='default_database', version=0, log_position=0)"
      ]
     },
     "execution_count": 43,
     "metadata": {},
     "output_type": "execute_result"
    }
   ],
   "source": [
    "collection.get_model()"
   ]
  },
  {
   "cell_type": "markdown",
   "metadata": {},
   "source": [
    "# Insert"
   ]
  },
  {
   "cell_type": "markdown",
   "metadata": {},
   "source": [
    "### Adding data to a Collection"
   ]
  },
  {
   "cell_type": "markdown",
   "metadata": {},
   "source": [
    "#### use embedding function"
   ]
  },
  {
   "cell_type": "code",
   "execution_count": 44,
   "metadata": {},
   "outputs": [],
   "source": [
    "# documents : 임베딩할 문서 내용\n",
    "# metadatas : 메타 데이터\n",
    "# ids : 문서ID\n",
    "# embeddings 인자를 넣지 않으면 collection 생성시 정의된 embedding function에 따라 자동으로 document를 임베딩함\n",
    "collection.add(\n",
    "    documents=[\"lorem ipsum...\", \"doc2\", \"doc3\"],\n",
    "    metadatas=[{\"chapter\": \"3\", \"verse\": \"16\"}, {\"chapter\": \"3\", \"verse\": \"5\"}, {\"chapter\": \"29\", \"verse\": \"11\"}],\n",
    "    ids=[\"id1\", \"id2\", \"id3\"]\n",
    ")"
   ]
  },
  {
   "cell_type": "code",
   "execution_count": 45,
   "metadata": {},
   "outputs": [],
   "source": [
    "result = collection.peek()"
   ]
  },
  {
   "cell_type": "code",
   "execution_count": 46,
   "metadata": {},
   "outputs": [
    {
     "data": {
      "text/plain": [
       "{'ids': ['id1', 'id2', 'id3'],\n",
       " 'embeddings': array([[ 0.04966333,  0.03326806, -0.01821254, ...,  0.00498756,\n",
       "          0.03791074, -0.01797377],\n",
       "        [ 0.02054628,  0.02163102,  0.01030505, ..., -0.01190823,\n",
       "         -0.00529609, -0.00301694],\n",
       "        [ 0.01418145,  0.04145983,  0.03606211, ..., -0.00342532,\n",
       "          0.00275474,  0.01248431]]),\n",
       " 'documents': ['lorem ipsum...', 'doc2', 'doc3'],\n",
       " 'uris': None,\n",
       " 'data': None,\n",
       " 'metadatas': [{'chapter': '3', 'verse': '16'},\n",
       "  {'chapter': '3', 'verse': '5'},\n",
       "  {'chapter': '29', 'verse': '11'}],\n",
       " 'included': [<IncludeEnum.embeddings: 'embeddings'>,\n",
       "  <IncludeEnum.documents: 'documents'>,\n",
       "  <IncludeEnum.metadatas: 'metadatas'>]}"
      ]
     },
     "execution_count": 46,
     "metadata": {},
     "output_type": "execute_result"
    }
   ],
   "source": [
    "collection.peek()"
   ]
  },
  {
   "cell_type": "code",
   "execution_count": 47,
   "metadata": {},
   "outputs": [
    {
     "data": {
      "text/plain": [
       "3"
      ]
     },
     "execution_count": 47,
     "metadata": {},
     "output_type": "execute_result"
    }
   ],
   "source": [
    "collection.count()"
   ]
  },
  {
   "cell_type": "code",
   "execution_count": 48,
   "metadata": {},
   "outputs": [
    {
     "data": {
      "text/plain": [
       "1536"
      ]
     },
     "execution_count": 48,
     "metadata": {},
     "output_type": "execute_result"
    }
   ],
   "source": [
    "len(result['embeddings'][0])"
   ]
  },
  {
   "cell_type": "code",
   "execution_count": 49,
   "metadata": {},
   "outputs": [],
   "source": [
    "# 메타데이터는 없어도 삽입이 가능하다\n",
    "collection.add(\n",
    "    documents=[\"doc4\", \"doc5\", \"doc6\"],\n",
    "    ids=[\"id4\", \"id5\", \"id6\"]\n",
    ")"
   ]
  },
  {
   "cell_type": "code",
   "execution_count": 50,
   "metadata": {},
   "outputs": [
    {
     "data": {
      "text/plain": [
       "{'ids': ['id1', 'id2', 'id3', 'id4', 'id5', 'id6'],\n",
       " 'embeddings': array([[ 0.04966333,  0.03326806, -0.01821254, ...,  0.00498756,\n",
       "          0.03791074, -0.01797377],\n",
       "        [ 0.02054628,  0.02163102,  0.01030505, ..., -0.01190823,\n",
       "         -0.00529609, -0.00301694],\n",
       "        [ 0.01418145,  0.04145983,  0.03606211, ..., -0.00342532,\n",
       "          0.00275474,  0.01248431],\n",
       "        [ 0.01773529,  0.02958861,  0.02347423, ..., -0.02935619,\n",
       "          0.01712742,  0.01691289],\n",
       "        [ 0.00792155,  0.05334781,  0.00661152, ..., -0.01848947,\n",
       "          0.01628125, -0.01284624],\n",
       "        [ 0.01972202,  0.03384865,  0.05426145, ...,  0.01204563,\n",
       "          0.0128573 , -0.00704173]]),\n",
       " 'documents': ['lorem ipsum...', 'doc2', 'doc3', 'doc4', 'doc5', 'doc6'],\n",
       " 'uris': None,\n",
       " 'data': None,\n",
       " 'metadatas': [{'chapter': '3', 'verse': '16'},\n",
       "  {'chapter': '3', 'verse': '5'},\n",
       "  {'chapter': '29', 'verse': '11'},\n",
       "  None,\n",
       "  None,\n",
       "  None],\n",
       " 'included': [<IncludeEnum.embeddings: 'embeddings'>,\n",
       "  <IncludeEnum.documents: 'documents'>,\n",
       "  <IncludeEnum.metadatas: 'metadatas'>]}"
      ]
     },
     "execution_count": 50,
     "metadata": {},
     "output_type": "execute_result"
    }
   ],
   "source": [
    "collection.peek()"
   ]
  },
  {
   "cell_type": "markdown",
   "metadata": {},
   "source": [
    "#### manually insert"
   ]
  },
  {
   "cell_type": "code",
   "execution_count": 52,
   "metadata": {},
   "outputs": [],
   "source": [
    "# client.delete_collection(name=\"manual\")"
   ]
  },
  {
   "cell_type": "code",
   "execution_count": 53,
   "metadata": {},
   "outputs": [],
   "source": [
    "# \"hnsw:space\" : \"l2\", \"ip\", \"cosine\"\n",
    "collection_manual = client.create_collection(name=\"manual\")"
   ]
  },
  {
   "cell_type": "code",
   "execution_count": 54,
   "metadata": {},
   "outputs": [
    {
     "data": {
      "text/plain": [
       "[Collection(name=test), Collection(name=hnsw_test), Collection(name=manual)]"
      ]
     },
     "execution_count": 54,
     "metadata": {},
     "output_type": "execute_result"
    }
   ],
   "source": [
    "client.list_collections()"
   ]
  },
  {
   "cell_type": "code",
   "execution_count": 55,
   "metadata": {},
   "outputs": [],
   "source": [
    "# 수동으로 데이터 추가 가능\n",
    "collection_manual.add(\n",
    "    documents=[\"doc1\", \"doc2\", \"doc3\"],\n",
    "    embeddings=[[1.1, 2.3, 3.2], [4.5, 6.9, 4.4], [1.1, 2.3, 3.2]],\n",
    "    metadatas=[{\"chapter\": \"3\", \"verse\": \"16\"}, {\"chapter\": \"3\", \"verse\": \"5\"}, {\"chapter\": \"29\", \"verse\": \"11\"}],\n",
    "    ids=[\"id1\", \"id2\", \"id3\"]\n",
    ")\n"
   ]
  },
  {
   "cell_type": "code",
   "execution_count": 56,
   "metadata": {},
   "outputs": [
    {
     "data": {
      "text/plain": [
       "{'ids': ['id1', 'id2', 'id3'],\n",
       " 'embeddings': array([[1.10000002, 2.29999995, 3.20000005],\n",
       "        [4.5       , 6.9000001 , 4.4000001 ],\n",
       "        [1.10000002, 2.29999995, 3.20000005]]),\n",
       " 'documents': ['doc1', 'doc2', 'doc3'],\n",
       " 'uris': None,\n",
       " 'data': None,\n",
       " 'metadatas': [{'chapter': '3', 'verse': '16'},\n",
       "  {'chapter': '3', 'verse': '5'},\n",
       "  {'chapter': '29', 'verse': '11'}],\n",
       " 'included': [<IncludeEnum.embeddings: 'embeddings'>,\n",
       "  <IncludeEnum.documents: 'documents'>,\n",
       "  <IncludeEnum.metadatas: 'metadatas'>]}"
      ]
     },
     "execution_count": 56,
     "metadata": {},
     "output_type": "execute_result"
    }
   ],
   "source": [
    "collection_manual.peek()"
   ]
  },
  {
   "cell_type": "code",
   "execution_count": 57,
   "metadata": {},
   "outputs": [],
   "source": [
    "# documents 없이 추가\n",
    "# chromadb에는 vector만 저장하고 별도의 장소에 id-documents로 관리\n",
    "collection_manual.add(\n",
    "    embeddings=[[1.1, 2.3, 3.2], [4.5, 6.9, 4.4], [1.1, 2.3, 3.2]],\n",
    "    metadatas=[{\"chapter\": \"3\", \"verse\": \"16\"}, {\"chapter\": \"3\", \"verse\": \"5\"}, {\"chapter\": \"29\", \"verse\": \"11\"}],\n",
    "    ids=[\"id4\", \"id5\", \"id6\"]\n",
    ")"
   ]
  },
  {
   "cell_type": "code",
   "execution_count": 58,
   "metadata": {},
   "outputs": [
    {
     "data": {
      "text/plain": [
       "{'ids': ['id1', 'id2', 'id3', 'id4', 'id5', 'id6'],\n",
       " 'embeddings': array([[1.10000002, 2.29999995, 3.20000005],\n",
       "        [4.5       , 6.9000001 , 4.4000001 ],\n",
       "        [1.10000002, 2.29999995, 3.20000005],\n",
       "        [1.10000002, 2.29999995, 3.20000005],\n",
       "        [4.5       , 6.9000001 , 4.4000001 ],\n",
       "        [1.10000002, 2.29999995, 3.20000005]]),\n",
       " 'documents': ['doc1', 'doc2', 'doc3', None, None, None],\n",
       " 'uris': None,\n",
       " 'data': None,\n",
       " 'metadatas': [{'chapter': '3', 'verse': '16'},\n",
       "  {'chapter': '3', 'verse': '5'},\n",
       "  {'chapter': '29', 'verse': '11'},\n",
       "  {'chapter': '3', 'verse': '16'},\n",
       "  {'chapter': '3', 'verse': '5'},\n",
       "  {'chapter': '29', 'verse': '11'}],\n",
       " 'included': [<IncludeEnum.embeddings: 'embeddings'>,\n",
       "  <IncludeEnum.documents: 'documents'>,\n",
       "  <IncludeEnum.metadatas: 'metadatas'>]}"
      ]
     },
     "execution_count": 58,
     "metadata": {},
     "output_type": "execute_result"
    }
   ],
   "source": [
    "# 'id4', 'id5', 'id6'\n",
    "collection_manual.peek()"
   ]
  },
  {
   "cell_type": "code",
   "execution_count": 59,
   "metadata": {},
   "outputs": [
    {
     "data": {
      "text/plain": [
       "6"
      ]
     },
     "execution_count": 59,
     "metadata": {},
     "output_type": "execute_result"
    }
   ],
   "source": [
    "collection_manual.count()"
   ]
  },
  {
   "cell_type": "markdown",
   "metadata": {},
   "source": [
    "#### Update"
   ]
  },
  {
   "cell_type": "code",
   "execution_count": 60,
   "metadata": {},
   "outputs": [
    {
     "data": {
      "text/plain": [
       "{'ids': ['id1', 'id2', 'id3'],\n",
       " 'embeddings': None,\n",
       " 'documents': ['doc1', 'doc2', 'doc3'],\n",
       " 'uris': None,\n",
       " 'data': None,\n",
       " 'metadatas': [{'chapter': '3', 'verse': '16'},\n",
       "  {'chapter': '3', 'verse': '5'},\n",
       "  {'chapter': '29', 'verse': '11'}],\n",
       " 'included': [<IncludeEnum.documents: 'documents'>,\n",
       "  <IncludeEnum.metadatas: 'metadatas'>]}"
      ]
     },
     "execution_count": 60,
     "metadata": {},
     "output_type": "execute_result"
    }
   ],
   "source": [
    "collection_manual.get(\n",
    "    ids=['id1', 'id2', 'id3']\n",
    ")"
   ]
  },
  {
   "cell_type": "code",
   "execution_count": 61,
   "metadata": {},
   "outputs": [],
   "source": [
    "collection_manual.update(\n",
    "    ids=[\"id1\", \"id2\", \"id3\"],\n",
    "    embeddings=[[1.1, 2.3, 3.2], [4.5, 6.9, 4.4], [1.1, 2.3, 3.2]],\n",
    "    metadatas=[{\"chapter\": \"3\", \"verse\": \"16\"}, {\"chapter\": \"3\", \"verse\": \"5\"}, {\"chapter\": \"29\", \"verse\": \"11\"}],\n",
    "    documents=[\"doc_A\", \"doc_B\", \"doc_C\"],\n",
    ")"
   ]
  },
  {
   "cell_type": "code",
   "execution_count": 62,
   "metadata": {},
   "outputs": [
    {
     "data": {
      "text/plain": [
       "{'ids': ['id1', 'id2', 'id3', 'id4', 'id5', 'id6'],\n",
       " 'embeddings': array([[1.10000002, 2.29999995, 3.20000005],\n",
       "        [4.5       , 6.9000001 , 4.4000001 ],\n",
       "        [1.10000002, 2.29999995, 3.20000005],\n",
       "        [1.10000002, 2.29999995, 3.20000005],\n",
       "        [4.5       , 6.9000001 , 4.4000001 ],\n",
       "        [1.10000002, 2.29999995, 3.20000005]]),\n",
       " 'documents': ['doc_A', 'doc_B', 'doc_C', None, None, None],\n",
       " 'uris': None,\n",
       " 'data': None,\n",
       " 'metadatas': [{'chapter': '3', 'verse': '16'},\n",
       "  {'chapter': '3', 'verse': '5'},\n",
       "  {'chapter': '29', 'verse': '11'},\n",
       "  {'chapter': '3', 'verse': '16'},\n",
       "  {'chapter': '3', 'verse': '5'},\n",
       "  {'chapter': '29', 'verse': '11'}],\n",
       " 'included': [<IncludeEnum.embeddings: 'embeddings'>,\n",
       "  <IncludeEnum.documents: 'documents'>,\n",
       "  <IncludeEnum.metadatas: 'metadatas'>]}"
      ]
     },
     "execution_count": 62,
     "metadata": {},
     "output_type": "execute_result"
    }
   ],
   "source": [
    "collection_manual.peek()"
   ]
  },
  {
   "cell_type": "code",
   "execution_count": 63,
   "metadata": {},
   "outputs": [],
   "source": [
    "# upsert : update or insert\n",
    "collection_manual.upsert(\n",
    "    ids=[\"id1\", \"id7\", \"id8\"],\n",
    "    embeddings=[[1.5, -2.0, -3.0], [3.0, 0.0, 0.1], [2.1, 4.3, 1.2]],\n",
    "    metadatas=[{\"chapter\": \"3\", \"verse\": \"16\"}, {\"chapter\": \"8\", \"verse\": \"1\"}, {\"chapter\": \"8\", \"verse\": \"2\"}],\n",
    "    documents=[\"doc_AA\", \"doc_B\", \"doc_C\"],\n",
    ")"
   ]
  },
  {
   "cell_type": "code",
   "execution_count": 64,
   "metadata": {},
   "outputs": [
    {
     "data": {
      "text/plain": [
       "{'ids': ['id1', 'id2', 'id3', 'id4', 'id5', 'id6', 'id7', 'id8'],\n",
       " 'embeddings': array([[ 1.5       , -2.        , -3.        ],\n",
       "        [ 4.5       ,  6.9000001 ,  4.4000001 ],\n",
       "        [ 1.10000002,  2.29999995,  3.20000005],\n",
       "        [ 1.10000002,  2.29999995,  3.20000005],\n",
       "        [ 4.5       ,  6.9000001 ,  4.4000001 ],\n",
       "        [ 1.10000002,  2.29999995,  3.20000005],\n",
       "        [ 3.        ,  0.        ,  0.1       ],\n",
       "        [ 2.0999999 ,  4.30000019,  1.20000005]]),\n",
       " 'documents': ['doc_AA', 'doc_B', 'doc_C', None, None, None, 'doc_B', 'doc_C'],\n",
       " 'uris': None,\n",
       " 'data': None,\n",
       " 'metadatas': [{'chapter': '3', 'verse': '16'},\n",
       "  {'chapter': '3', 'verse': '5'},\n",
       "  {'chapter': '29', 'verse': '11'},\n",
       "  {'chapter': '3', 'verse': '16'},\n",
       "  {'chapter': '3', 'verse': '5'},\n",
       "  {'chapter': '29', 'verse': '11'},\n",
       "  {'chapter': '8', 'verse': '1'},\n",
       "  {'chapter': '8', 'verse': '2'}],\n",
       " 'included': [<IncludeEnum.embeddings: 'embeddings'>,\n",
       "  <IncludeEnum.documents: 'documents'>,\n",
       "  <IncludeEnum.metadatas: 'metadatas'>]}"
      ]
     },
     "execution_count": 64,
     "metadata": {},
     "output_type": "execute_result"
    }
   ],
   "source": [
    "collection_manual.peek()"
   ]
  },
  {
   "cell_type": "markdown",
   "metadata": {},
   "source": [
    "#### delete"
   ]
  },
  {
   "cell_type": "code",
   "execution_count": 65,
   "metadata": {},
   "outputs": [],
   "source": [
    "collection_manual.delete(\n",
    "    ids=[\"id7\", \"id8\"],\n",
    "\twhere={\"chapter\": \"8\"}\n",
    ")"
   ]
  },
  {
   "cell_type": "code",
   "execution_count": 66,
   "metadata": {},
   "outputs": [
    {
     "data": {
      "text/plain": [
       "{'ids': ['id1', 'id2', 'id3', 'id4', 'id5', 'id6'],\n",
       " 'embeddings': array([[ 1.5       , -2.        , -3.        ],\n",
       "        [ 4.5       ,  6.9000001 ,  4.4000001 ],\n",
       "        [ 1.10000002,  2.29999995,  3.20000005],\n",
       "        [ 1.10000002,  2.29999995,  3.20000005],\n",
       "        [ 4.5       ,  6.9000001 ,  4.4000001 ],\n",
       "        [ 1.10000002,  2.29999995,  3.20000005]]),\n",
       " 'documents': ['doc_AA', 'doc_B', 'doc_C', None, None, None],\n",
       " 'uris': None,\n",
       " 'data': None,\n",
       " 'metadatas': [{'chapter': '3', 'verse': '16'},\n",
       "  {'chapter': '3', 'verse': '5'},\n",
       "  {'chapter': '29', 'verse': '11'},\n",
       "  {'chapter': '3', 'verse': '16'},\n",
       "  {'chapter': '3', 'verse': '5'},\n",
       "  {'chapter': '29', 'verse': '11'}],\n",
       " 'included': [<IncludeEnum.embeddings: 'embeddings'>,\n",
       "  <IncludeEnum.documents: 'documents'>,\n",
       "  <IncludeEnum.metadatas: 'metadatas'>]}"
      ]
     },
     "execution_count": 66,
     "metadata": {},
     "output_type": "execute_result"
    }
   ],
   "source": [
    "collection_manual.peek()"
   ]
  },
  {
   "cell_type": "markdown",
   "metadata": {},
   "source": [
    "# Query"
   ]
  },
  {
   "cell_type": "code",
   "execution_count": 67,
   "metadata": {},
   "outputs": [
    {
     "name": "stderr",
     "output_type": "stream",
     "text": [
      "Number of requested results 10 is greater than number of elements in index 6, updating n_results = 6\n"
     ]
    },
    {
     "data": {
      "text/plain": [
       "{'ids': [['id2', 'id5', 'id3', 'id4', 'id6', 'id1']],\n",
       " 'embeddings': None,\n",
       " 'documents': [['doc_B', None, 'doc_C', None, None, 'doc_AA']],\n",
       " 'uris': None,\n",
       " 'data': None,\n",
       " 'metadatas': [[{'chapter': '3', 'verse': '5'},\n",
       "   {'chapter': '3', 'verse': '5'},\n",
       "   {'chapter': '29', 'verse': '11'},\n",
       "   {'chapter': '3', 'verse': '16'},\n",
       "   {'chapter': '29', 'verse': '11'},\n",
       "   {'chapter': '3', 'verse': '16'}]],\n",
       " 'distances': [[146.2900129890445,\n",
       "   146.2900129890445,\n",
       "   294.05002217292827,\n",
       "   294.05002217292827,\n",
       "   294.05002217292827,\n",
       "   550.1800303649907]],\n",
       " 'included': [<IncludeEnum.distances: 'distances'>,\n",
       "  <IncludeEnum.documents: 'documents'>,\n",
       "  <IncludeEnum.metadatas: 'metadatas'>]}"
      ]
     },
     "execution_count": 67,
     "metadata": {},
     "output_type": "execute_result"
    }
   ],
   "source": [
    "collection_manual.query(\n",
    "    query_embeddings=[[11.1, 12.1, 13.1]]\n",
    ")"
   ]
  },
  {
   "cell_type": "code",
   "execution_count": 68,
   "metadata": {},
   "outputs": [
    {
     "data": {
      "text/plain": [
       "{'ids': [['id2', 'id5', 'id4']],\n",
       " 'embeddings': None,\n",
       " 'documents': [['doc_B', None, None]],\n",
       " 'uris': None,\n",
       " 'data': None,\n",
       " 'metadatas': [[{'chapter': '3', 'verse': '5'},\n",
       "   {'chapter': '3', 'verse': '5'},\n",
       "   {'chapter': '3', 'verse': '16'}]],\n",
       " 'distances': [[146.2900129890445, 146.2900129890445, 294.05002217292827]],\n",
       " 'included': [<IncludeEnum.distances: 'distances'>,\n",
       "  <IncludeEnum.documents: 'documents'>,\n",
       "  <IncludeEnum.metadatas: 'metadatas'>]}"
      ]
     },
     "execution_count": 68,
     "metadata": {},
     "output_type": "execute_result"
    }
   ],
   "source": [
    "collection_manual.query(\n",
    "    query_embeddings=[[11.1, 12.1, 13.1]],\n",
    "    n_results=3,\n",
    "    where={\"chapter\": \"3\"}\n",
    ")\n"
   ]
  },
  {
   "cell_type": "code",
   "execution_count": 69,
   "metadata": {},
   "outputs": [
    {
     "data": {
      "text/plain": [
       "{'ids': [['id2', 'id1']],\n",
       " 'embeddings': None,\n",
       " 'documents': [['doc_B', 'doc_AA']],\n",
       " 'uris': None,\n",
       " 'data': None,\n",
       " 'metadatas': [[{'chapter': '3', 'verse': '5'},\n",
       "   {'chapter': '3', 'verse': '16'}]],\n",
       " 'distances': [[146.2900129890445, 550.1800303649907]],\n",
       " 'included': [<IncludeEnum.distances: 'distances'>,\n",
       "  <IncludeEnum.documents: 'documents'>,\n",
       "  <IncludeEnum.metadatas: 'metadatas'>]}"
      ]
     },
     "execution_count": 69,
     "metadata": {},
     "output_type": "execute_result"
    }
   ],
   "source": [
    "collection_manual.query(\n",
    "    query_embeddings=[[11.1, 12.1, 13.1]],\n",
    "    n_results=3,\n",
    "    where={\"chapter\": \"3\"},\n",
    "    where_document={\"$contains\":\"doc\"}\n",
    ")\n"
   ]
  },
  {
   "cell_type": "code",
   "execution_count": 70,
   "metadata": {},
   "outputs": [
    {
     "data": {
      "text/plain": [
       "{'ids': ['id2'],\n",
       " 'embeddings': None,\n",
       " 'documents': ['doc_B'],\n",
       " 'uris': None,\n",
       " 'data': None,\n",
       " 'metadatas': [{'chapter': '3', 'verse': '5'}],\n",
       " 'included': [<IncludeEnum.documents: 'documents'>,\n",
       "  <IncludeEnum.metadatas: 'metadatas'>]}"
      ]
     },
     "execution_count": 70,
     "metadata": {},
     "output_type": "execute_result"
    }
   ],
   "source": [
    "collection_manual.get(\n",
    "    ids=['id1', 'id2'],\n",
    "    where={'verse':'5'}\n",
    ")"
   ]
  },
  {
   "cell_type": "markdown",
   "metadata": {},
   "source": [
    "## where filter"
   ]
  },
  {
   "cell_type": "markdown",
   "metadata": {},
   "source": [
    "#### Filtering by metadata"
   ]
  },
  {
   "cell_type": "code",
   "execution_count": 71,
   "metadata": {},
   "outputs": [
    {
     "name": "stderr",
     "output_type": "stream",
     "text": [
      "Number of requested results 10 is greater than number of elements in index 6, updating n_results = 6\n"
     ]
    },
    {
     "data": {
      "text/plain": [
       "{'ids': [['id1', 'id4', 'id5', 'id2']],\n",
       " 'embeddings': None,\n",
       " 'documents': [['doc_AA', None, None, 'doc_B']],\n",
       " 'uris': None,\n",
       " 'data': None,\n",
       " 'metadatas': [[{'chapter': '3', 'verse': '16'},\n",
       "   {'chapter': '3', 'verse': '16'},\n",
       "   {'chapter': '3', 'verse': '5'},\n",
       "   {'chapter': '3', 'verse': '5'}]],\n",
       " 'distances': [[15.249999999999998,\n",
       "   16.740000138282785,\n",
       "   87.22000215530397,\n",
       "   87.22000215530397]],\n",
       " 'included': [<IncludeEnum.distances: 'distances'>,\n",
       "  <IncludeEnum.documents: 'documents'>,\n",
       "  <IncludeEnum.metadatas: 'metadatas'>]}"
      ]
     },
     "execution_count": 71,
     "metadata": {},
     "output_type": "execute_result"
    }
   ],
   "source": [
    "# without filter operators\n",
    "collection_manual.query(\n",
    "    query_embeddings=[[0,0,0]],\n",
    "    where={\"chapter\": \"3\"}\n",
    ")\n"
   ]
  },
  {
   "cell_type": "code",
   "execution_count": 72,
   "metadata": {},
   "outputs": [
    {
     "name": "stderr",
     "output_type": "stream",
     "text": [
      "Number of requested results 10 is greater than number of elements in index 6, updating n_results = 6\n"
     ]
    },
    {
     "data": {
      "text/plain": [
       "{'ids': [['id6', 'id3']],\n",
       " 'embeddings': None,\n",
       " 'documents': [[None, 'doc_C']],\n",
       " 'uris': None,\n",
       " 'data': None,\n",
       " 'metadatas': [[{'chapter': '29', 'verse': '11'},\n",
       "   {'chapter': '29', 'verse': '11'}]],\n",
       " 'distances': [[16.740000138282785, 16.740000138282785]],\n",
       " 'included': [<IncludeEnum.distances: 'distances'>,\n",
       "  <IncludeEnum.documents: 'documents'>,\n",
       "  <IncludeEnum.metadatas: 'metadatas'>]}"
      ]
     },
     "execution_count": 72,
     "metadata": {},
     "output_type": "execute_result"
    }
   ],
   "source": [
    "# $eq - equal to (string, int, float)\n",
    "# $ne - not equal to (string, int, float)\n",
    "# $gt - greater than (int, float)\n",
    "# $gte - greater than or equal to (int, float)\n",
    "# $lt - less than (int, float)\n",
    "# $lte - less than or equal to (int, float)\n",
    "\n",
    "collection_manual.query(\n",
    "    query_embeddings=[[0,0,0]],\n",
    "    where={\"chapter\": {\"$ne\":\"3\"}}\n",
    ")"
   ]
  },
  {
   "cell_type": "markdown",
   "metadata": {},
   "source": [
    "#### Filtering by document contents"
   ]
  },
  {
   "cell_type": "code",
   "execution_count": 73,
   "metadata": {},
   "outputs": [
    {
     "name": "stderr",
     "output_type": "stream",
     "text": [
      "Number of requested results 10 is greater than number of elements in index 6, updating n_results = 6\n"
     ]
    },
    {
     "data": {
      "text/plain": [
       "{'ids': [['id1', 'id3', 'id2']],\n",
       " 'embeddings': None,\n",
       " 'documents': [['doc_AA', 'doc_C', 'doc_B']],\n",
       " 'uris': None,\n",
       " 'data': None,\n",
       " 'metadatas': [[{'chapter': '3', 'verse': '16'},\n",
       "   {'chapter': '29', 'verse': '11'},\n",
       "   {'chapter': '3', 'verse': '5'}]],\n",
       " 'distances': [[15.249999999999998, 16.740000138282785, 87.22000215530397]],\n",
       " 'included': [<IncludeEnum.distances: 'distances'>,\n",
       "  <IncludeEnum.documents: 'documents'>,\n",
       "  <IncludeEnum.metadatas: 'metadatas'>]}"
      ]
     },
     "execution_count": 73,
     "metadata": {},
     "output_type": "execute_result"
    }
   ],
   "source": [
    "# $contains\n",
    "collection_manual.query(\n",
    "    query_embeddings=[[0,0,0]],\n",
    "    where_document={\"$contains\":\"doc\"}\n",
    ")"
   ]
  },
  {
   "cell_type": "code",
   "execution_count": 74,
   "metadata": {},
   "outputs": [
    {
     "name": "stderr",
     "output_type": "stream",
     "text": [
      "Number of requested results 10 is greater than number of elements in index 6, updating n_results = 6\n"
     ]
    },
    {
     "data": {
      "text/plain": [
       "{'ids': [['id6', 'id4', 'id5']],\n",
       " 'embeddings': None,\n",
       " 'documents': [[None, None, None]],\n",
       " 'uris': None,\n",
       " 'data': None,\n",
       " 'metadatas': [[{'chapter': '29', 'verse': '11'},\n",
       "   {'chapter': '3', 'verse': '16'},\n",
       "   {'chapter': '3', 'verse': '5'}]],\n",
       " 'distances': [[16.740000138282785, 16.740000138282785, 87.22000215530397]],\n",
       " 'included': [<IncludeEnum.distances: 'distances'>,\n",
       "  <IncludeEnum.documents: 'documents'>,\n",
       "  <IncludeEnum.metadatas: 'metadatas'>]}"
      ]
     },
     "execution_count": 74,
     "metadata": {},
     "output_type": "execute_result"
    }
   ],
   "source": [
    "# $not_contains\n",
    "collection_manual.query(\n",
    "    query_embeddings=[[0,0,0]],\n",
    "    where_document={\"$not_contains\":\"doc\"}\n",
    ")"
   ]
  },
  {
   "cell_type": "markdown",
   "metadata": {},
   "source": [
    "#### logical operators"
   ]
  },
  {
   "cell_type": "code",
   "execution_count": 75,
   "metadata": {},
   "outputs": [
    {
     "name": "stderr",
     "output_type": "stream",
     "text": [
      "Number of requested results 10 is greater than number of elements in index 6, updating n_results = 6\n"
     ]
    },
    {
     "data": {
      "text/plain": [
       "{'ids': [['id5', 'id2']],\n",
       " 'embeddings': None,\n",
       " 'documents': [[None, 'doc_B']],\n",
       " 'uris': None,\n",
       " 'data': None,\n",
       " 'metadatas': [[{'chapter': '3', 'verse': '5'},\n",
       "   {'chapter': '3', 'verse': '5'}]],\n",
       " 'distances': [[87.22000215530397, 87.22000215530397]],\n",
       " 'included': [<IncludeEnum.distances: 'distances'>,\n",
       "  <IncludeEnum.documents: 'documents'>,\n",
       "  <IncludeEnum.metadatas: 'metadatas'>]}"
      ]
     },
     "execution_count": 75,
     "metadata": {},
     "output_type": "execute_result"
    }
   ],
   "source": [
    "# $and\n",
    "# $or\n",
    "collection_manual.query(\n",
    "    query_embeddings=[[0,0,0]],\n",
    "    where={\n",
    "    \"$and\": [\n",
    "        {\n",
    "            \"chapter\": {\"$eq\":\"3\"}\n",
    "        },\n",
    "        {\n",
    "            \"verse\": {\"$eq\":\"5\"}\n",
    "        }\n",
    "    ]\n",
    "    }\n",
    ")"
   ]
  },
  {
   "cell_type": "code",
   "execution_count": 76,
   "metadata": {},
   "outputs": [
    {
     "name": "stderr",
     "output_type": "stream",
     "text": [
      "Number of requested results 10 is greater than number of elements in index 6, updating n_results = 6\n"
     ]
    },
    {
     "data": {
      "text/plain": [
       "{'ids': [['id1', 'id4', 'id5', 'id2']],\n",
       " 'embeddings': None,\n",
       " 'documents': [['doc_AA', None, None, 'doc_B']],\n",
       " 'uris': None,\n",
       " 'data': None,\n",
       " 'metadatas': [[{'chapter': '3', 'verse': '16'},\n",
       "   {'chapter': '3', 'verse': '16'},\n",
       "   {'chapter': '3', 'verse': '5'},\n",
       "   {'chapter': '3', 'verse': '5'}]],\n",
       " 'distances': [[15.249999999999998,\n",
       "   16.740000138282785,\n",
       "   87.22000215530397,\n",
       "   87.22000215530397]],\n",
       " 'included': [<IncludeEnum.distances: 'distances'>,\n",
       "  <IncludeEnum.documents: 'documents'>,\n",
       "  <IncludeEnum.metadatas: 'metadatas'>]}"
      ]
     },
     "execution_count": 76,
     "metadata": {},
     "output_type": "execute_result"
    }
   ],
   "source": [
    "# $in\n",
    "# $nin\n",
    "\n",
    "# without filter operators\n",
    "collection_manual.query(\n",
    "    query_embeddings=[[0,0,0]],\n",
    "    where={\n",
    "        \"chapter\": {\"$in\":['1','2','3']}\n",
    "    }\n",
    ")\n"
   ]
  },
  {
   "cell_type": "code",
   "execution_count": 77,
   "metadata": {},
   "outputs": [
    {
     "data": {
      "text/plain": [
       "{'ids': ['id1', 'id2', 'id3', 'id4', 'id5', 'id6'],\n",
       " 'embeddings': array([[ 1.5       , -2.        , -3.        ],\n",
       "        [ 4.5       ,  6.9000001 ,  4.4000001 ],\n",
       "        [ 1.10000002,  2.29999995,  3.20000005],\n",
       "        [ 1.10000002,  2.29999995,  3.20000005],\n",
       "        [ 4.5       ,  6.9000001 ,  4.4000001 ],\n",
       "        [ 1.10000002,  2.29999995,  3.20000005]]),\n",
       " 'documents': ['doc_AA', 'doc_B', 'doc_C', None, None, None],\n",
       " 'uris': None,\n",
       " 'data': None,\n",
       " 'metadatas': [{'chapter': '3', 'verse': '16'},\n",
       "  {'chapter': '3', 'verse': '5'},\n",
       "  {'chapter': '29', 'verse': '11'},\n",
       "  {'chapter': '3', 'verse': '16'},\n",
       "  {'chapter': '3', 'verse': '5'},\n",
       "  {'chapter': '29', 'verse': '11'}],\n",
       " 'included': [<IncludeEnum.embeddings: 'embeddings'>,\n",
       "  <IncludeEnum.documents: 'documents'>,\n",
       "  <IncludeEnum.metadatas: 'metadatas'>]}"
      ]
     },
     "execution_count": 77,
     "metadata": {},
     "output_type": "execute_result"
    }
   ],
   "source": [
    "collection_manual.peek()"
   ]
  },
  {
   "cell_type": "markdown",
   "metadata": {},
   "source": [
    "# Example"
   ]
  },
  {
   "cell_type": "code",
   "execution_count": 78,
   "metadata": {},
   "outputs": [],
   "source": [
    "# 데이터 임베딩 저장을 위한 콜렉션 생성\n",
    "collection_name = \"medical\"\n",
    "collection = client.create_collection(\n",
    "    name=collection_name,\n",
    "    metadata={\n",
    "        'hnsw:space': 'cosine',            # 코사인 거리\n",
    "        'hnsw:construction_ef': 200,      # 인덱스 생성 시 후보 이웃 수\n",
    "        'hnsw:M': 32,                     # 그래프 연결성\n",
    "        'hnsw:search_ef': 50,             # 검색 시 고려할 이웃 수\n",
    "        'hnsw:resize_factor': 1.5         # 메모리 확장 배율\n",
    "    }\n",
    ")"
   ]
  },
  {
   "cell_type": "code",
   "execution_count": 79,
   "metadata": {},
   "outputs": [
    {
     "data": {
      "text/plain": [
       "[Collection(name=test),\n",
       " Collection(name=medical),\n",
       " Collection(name=hnsw_test),\n",
       " Collection(name=manual)]"
      ]
     },
     "execution_count": 79,
     "metadata": {},
     "output_type": "execute_result"
    }
   ],
   "source": [
    "client.list_collections()"
   ]
  },
  {
   "cell_type": "code",
   "execution_count": 80,
   "metadata": {},
   "outputs": [],
   "source": [
    "# 데이터 추가\n",
    "documents = [\n",
    "    \"재초진은 뭔가요?\",\n",
    "    \"재초진은 어떤 기록을 써야 하나요?\",\n",
    "    \"외래 진료의 기준은 무엇인가요?\",\n",
    "    \"외래 진료의 수납은 어떻게 이루어지나요?\",\n",
    "    \"마약성 진통제의 관리는 어떻게 이루어지나요?\"\n",
    "]\n",
    "metadatas = [\n",
    "    {\"category\": \"진료\"},\n",
    "    {\"category\": \"진료\"},\n",
    "    {\"category\": \"외래진료\"},\n",
    "    {\"category\": \"외래진료\"},\n",
    "    {\"category\": \"약품\"},\n",
    "]\n",
    "ids = [\"doc1\", \"doc2\", \"doc3\", \"doc4\", \"doc5\"]\n",
    "\n",
    "# 데이터 임베딩 추가\n",
    "collection.add(\n",
    "    documents=documents,\n",
    "    metadatas=metadatas,\n",
    "    ids=ids\n",
    ")"
   ]
  },
  {
   "cell_type": "code",
   "execution_count": 81,
   "metadata": {},
   "outputs": [
    {
     "name": "stdout",
     "output_type": "stream",
     "text": [
      "검색 결과: ['외래 진료의 수납은 어떻게 이루어지나요?', '재초진은 어떤 기록을 써야 하나요?']\n"
     ]
    }
   ],
   "source": [
    "# 쿼리 예제\n",
    "query_text = \"외래 진료는 어떻게 이루어지나요?\"\n",
    "\n",
    "results = collection.query(\n",
    "    query_texts=[query_text],\n",
    "    n_results=2\n",
    ")\n",
    "\n",
    "# 결과 출력\n",
    "for result in results[\"documents\"]:\n",
    "    print(\"검색 결과:\", result)\n"
   ]
  },
  {
   "cell_type": "code",
   "execution_count": 82,
   "metadata": {},
   "outputs": [
    {
     "name": "stdout",
     "output_type": "stream",
     "text": [
      "검색 결과: ['외래 진료의 수납은 어떻게 이루어지나요?', '외래 진료의 기준은 무엇인가요?']\n"
     ]
    }
   ],
   "source": [
    "# 쿼리 예제\n",
    "query_text = \"외래 진료는 어떻게 이루어지나요?\"\n",
    "\n",
    "results = collection.query(\n",
    "    query_texts=[query_text],\n",
    "    n_results=2,\n",
    "    where={\"category\": \"외래진료\"}  # 카테고리 필터링\n",
    ")\n",
    "\n",
    "# 결과 출력\n",
    "for result in results[\"documents\"]:\n",
    "    print(\"검색 결과:\", result)"
   ]
  },
  {
   "cell_type": "code",
   "execution_count": null,
   "metadata": {},
   "outputs": [],
   "source": []
  }
 ],
 "metadata": {
  "kernelspec": {
   "display_name": "pg_venv",
   "language": "python",
   "name": "python3"
  },
  "language_info": {
   "codemirror_mode": {
    "name": "ipython",
    "version": 3
   },
   "file_extension": ".py",
   "mimetype": "text/x-python",
   "name": "python",
   "nbconvert_exporter": "python",
   "pygments_lexer": "ipython3",
   "version": "3.12.4"
  }
 },
 "nbformat": 4,
 "nbformat_minor": 2
}
