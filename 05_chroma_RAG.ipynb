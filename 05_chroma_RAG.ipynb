{
 "cells": [
  {
   "cell_type": "markdown",
   "metadata": {},
   "source": [
    "### 데이터 로드"
   ]
  },
  {
   "cell_type": "code",
   "execution_count": 1,
   "metadata": {},
   "outputs": [
    {
     "data": {
      "text/plain": [
       "'KB개인상해보험'"
      ]
     },
     "execution_count": 1,
     "metadata": {},
     "output_type": "execute_result"
    }
   ],
   "source": [
    "from langchain.document_loaders import PyPDFLoader\n",
    "\n",
    "# 약관문서 샘플 : https://www.kbinsure.co.kr/CG802030002.ec\n",
    "# 20240401 일자 버전.\n",
    "# PDF 파일 로드\n",
    "loader = PyPDFLoader(\"/Users/jaesolshin/Documents/GitHub/pg_test/data/20240401_15101_1.pdf\")\n",
    "document = loader.load()\n",
    "document[0].page_content[:200] # 내용 추출"
   ]
  },
  {
   "cell_type": "markdown",
   "metadata": {},
   "source": [
    "### 데이터 분할"
   ]
  },
  {
   "cell_type": "code",
   "execution_count": 2,
   "metadata": {},
   "outputs": [
    {
     "name": "stdout",
     "output_type": "stream",
     "text": [
      "document: 203\n",
      "texts: 203\n"
     ]
    }
   ],
   "source": [
    "from langchain.text_splitter import CharacterTextSplitter\n",
    "\n",
    "text_splitter = CharacterTextSplitter(chunk_size=1000, chunk_overlap=50)\n",
    "texts = text_splitter.split_documents(document)\n",
    "\n",
    "print(\"document:\", len(document))\n",
    "print(\"texts:\", len(texts))"
   ]
  },
  {
   "cell_type": "markdown",
   "metadata": {},
   "source": [
    "### 저장 및 검색"
   ]
  },
  {
   "cell_type": "code",
   "execution_count": 3,
   "metadata": {},
   "outputs": [
    {
     "name": "stderr",
     "output_type": "stream",
     "text": [
      "/var/folders/hw/9m3g7fvn4_l3rp2y473km9sm0000gn/T/ipykernel_5859/183684450.py:10: LangChainDeprecationWarning: The class `OpenAIEmbeddings` was deprecated in LangChain 0.0.9 and will be removed in 1.0. An updated version of the class exists in the :class:`~langchain-openai package and should be used instead. To use it run `pip install -U :class:`~langchain-openai` and import as `from :class:`~langchain_openai import OpenAIEmbeddings``.\n",
      "  embeddings = OpenAIEmbeddings()\n"
     ]
    }
   ],
   "source": [
    "import os\n",
    "from langchain.embeddings.openai import OpenAIEmbeddings\n",
    "from langchain.vectorstores import Chroma\n",
    "\n",
    "# OpenAI 임베딩 사용\n",
    "import os\n",
    "os.environ['OPENAI_API_KEY'] = open('API_KEY', 'r').read()\n",
    "\n",
    "# 임베딩\n",
    "embeddings = OpenAIEmbeddings()\n",
    "\n",
    "# 저장할 경로 지정\n",
    "DB_PATH = \"./chroma_db\"\n",
    "\n",
    "# Chroma DB 에 저장\n",
    "docsearch = Chroma.from_documents(texts, embeddings, persist_directory=DB_PATH, collection_name=\"my_db\")\n",
    "\n",
    "# retriever 가져옴\n",
    "retriever = docsearch.as_retriever()"
   ]
  },
  {
   "cell_type": "code",
   "execution_count": 4,
   "metadata": {},
   "outputs": [
    {
     "name": "stderr",
     "output_type": "stream",
     "text": [
      "/var/folders/hw/9m3g7fvn4_l3rp2y473km9sm0000gn/T/ipykernel_5859/686092555.py:1: LangChainDeprecationWarning: The method `BaseRetriever.get_relevant_documents` was deprecated in langchain-core 0.1.46 and will be removed in 1.0. Use :meth:`~invoke` instead.\n",
      "  retriever.get_relevant_documents(\"보험금 지급사유\")\n"
     ]
    },
    {
     "data": {
      "text/plain": [
       "[Document(metadata={'page': 15, 'source': '/Users/jaesolshin/Documents/GitHub/pg_test/data/20240401_15101_1.pdf'}, page_content='- 5 -\\n⑥ 계약자, 피보험자 또는 보험수익자는 제15조(알릴 의무 위반의 효과) 및 제2항의 보험금 지급사유조사와 관련하여 의료기관, 국민건강보험공단, 경찰서 등 관공서에 대한 회사의 서면에 의한 조사요청에 동의하여야 합니다. 다만, 정당한 사유 없이 이에 동의하지 않을 경우 사실 확인이 끝날 때까지 회사는 보험금 지급지연에 따른 이자를 지급하지 않습니다.⑦ 회사는 제6항의 서면조사에 대한 동의 요청시 조사목적, 사용처 등을 명시하고 설명합니다.제9조(보험금 받는 방법의 변경) ① 계약자(보험금 지급사유 발생 후에는 보험수익자)는 회사의 사업방법서에서 정한 바에 따라 보험금의 전부 또는 일부에 대하여 나누어 지급받거나 일시에 지급받는 방법으로 변경할 수 있습니다.② 회사는 제1항에 따라 일시에 지급할 금액을 나누어 지급하는 경우에는 나중에 지급할 금액에 대하여 ‘보험개발원이 공시하는 월평균 정기예금이율’을 연단위 복리로 계산한 금액을 더하며, 나누어 지급할 금액을 일시에 지급하는 경우에는 ‘보험개발원이 공시하는 월평균 정기예금이율’을 연단위 복리로 할인한 금액을 지급합니다.제10조(주소변경통지) ① 계약자(보험수익자가 계약자와 다른 경우 보험수익자를 포함합니다)는 주소 또는 연락처가 변경된 경우에는 지체없이 그 변경내용을 회사에 알려야 합니다.② 제1항에서 정한대로 계약자 또는 보험수익자가 변경내용을 알리지 않은 경우에는 계약자 또는 보험수익자가 회사에 알린 최종의 주소 또는 연락처로 등기우편 등 우편물에 대한 기록이 남는 방법으로 회사가 알린 사항은 일반적으로 도달에 필요한 기간이 지난 때에 계약자 또는 보험수익자에게 도달된 것으로 봅니다.제11조(보험수익자의 지정) 보험수익자를 지정하지 않은 때에는 보험수익자를 제3조(보험금의 지급사유) 제1호의 경우는 피보험자의 법정상속인, 같은 조 제2호의 경우는 피보험자로 합니다.제12조(대표자의 지정) ① 계약자 또는 보험수익자가 2명 이상인 경우에는 각 대표자를 1명 지정하여야 합니다. 이 경우 그 대표자는 각각 다른 계약자 또는 보험수익자를 대리하는 것으로 합니다.② 지정된 계약자 또는 보험수익자의 소재가 확실하지 않은 경우에는 이 계약에 관하여 회사가 계약자 또는 보험수익자 1명에 대하여 한 행위는 각각 다른 계약자 또는 보험수익자에게도 효력이 미칩니다.③ 계약자가 2명 이상인 경우에는 그 책임을 연대로 합니다.【설명】계약자가 2명 이상인 경우, 계약 전 알릴 의무, 보험료 납입의무 등 보험계약에 따른 계약자의 의무를 연대로 한다는 의미입니다.\\n주) 1. 지급이자의 계산은 연단위 복리로 계산합니다.2. 계약자 등의 책임 있는 사유로 보험금 지급이 지연된 때에는 그 해당 기간에 대한 이자는 지급되지 않을 수 있습니다. 다만, 회사는 계약자 등이 분쟁조정을 신청했다는 사유만으로 이자지급을 거절하지 않습니다.3. 가산이율 적용시 제8조(보험금의 지급절차) 제2항 각 호의 어느 하나에 해당되는 사유로 지연된 경우에는 해당기간에 대하여 가산이율을 적용하지 않습니다.4. 가산이율 적용시 금융위원회 또는 금융감독원이 정당한 사유로 인정하는 경우에는 해당 기간에 대하여 가산이율을 적용하지 않습니다.5. 보험계약대출이율은 보험개발원이 공시하는 보험계약대출이율을 적용합니다.'),\n",
       " Document(metadata={'page': 124, 'source': '/Users/jaesolshin/Documents/GitHub/pg_test/data/20240401_15101_1.pdf'}, page_content='- 114 -\\n제2조(보험금을 지급하지 않는 사유)회사는 아래의 사유를 원인으로 하여 생긴 손해는 보상하여 드리지 않습니다. 1. 피보험자의 고의 2. 계약자의 고의  3. 피보험자가 사고를 내고 도주하였을 때 4. 피보험자가 자동차를 경기용이나 경기를 위한 연습용 또는 시험용으로 운전하던 중 사고를 일으킨 때 5. 피보험자가 도로교통법 제43조, 제44조에 정한 음주․무면허 상태 또는 제45조에 의한 약물 상태에서 운전하던 중 사고를 일으킨 때 6. 자가용의 경우 피보험자가 자동차를 영업목적으로 운전하던 중 발생한 사고제3조(보험금의 비례분담)① 제1조(보험금의 지급사유) 제1항의 형사합의금에 대하여 교통사고처리지원금을 지급할 다수 계약(각종 공제계약을 포함합니다)이 체결되어 있는 경우 형사합의금 및 각 계약의 보상책임액에 따라 제2항에 의해 계산된 각 계약의 비례분담액을 보상책임액으로 지급합니다.② 다수 계약이 체결되어 있는 경우 각각의 계약에 대하여 다른 계약이 없는 것으로 하여 산출한 보상책임액의 합계액이 형사합의금을 초과하는 때에는 회사는 각 계약의 보상책임액을 비례분담하여 지급하며, 비례분담액 산출방식은 다음과 같습니다.각 계약별 비례분담액 =                           형사합의금  × 각 계약별 보상책임액각 계약별 보상책임액의 합계액제4조(준용규정)이 특별약관에서 정하지 않은 사항은 보통약관을 따릅니다.'),\n",
       " Document(metadata={'page': 127, 'source': '/Users/jaesolshin/Documents/GitHub/pg_test/data/20240401_15101_1.pdf'}, page_content='- 117 -\\n제2조(보험금을 지급하지 않는 사유)회사는 아래의 사유를 원인으로 하여 생긴 손해는 보상하여 드리지 않습니다. 1. 피보험자의 고의 2. 계약자의 고의  3. 피보험자가 사고를 내고 도주하였을 때 4. 피보험자가 자동차를 경기용이나 경기를 위한 연습용 또는 시험용으로 운전하던 중 사고를 일으킨 때 5. 피보험자가 도로교통법 제43조, 제44조에 정한 음주․무면허 상태 또는 제45조에 의한 약물 상태에서 운전하던 중 사고를 일으킨 때 6. 자가용의 경우 피보험자가 자동차를 영업목적으로 운전하던 중 발생한 사고제3조(보험금의 비례분담)① 제1조(보험금의 지급사유) 제1항의 형사합의금에 대하여 교통사고처리지원금을 지급할 다수 계약(각종 공제계약을 포함합니다)이 체결되어 있는 경우 형사합의금 및 각 계약의 보상책임액에 따라 제2항에 의해 계산된 각 계약의 비례분담액을 보상책임액으로 지급합니다.② 다수 계약이 체결되어 있는 경우 각각의 계약에 대하여 다른 계약이 없는 것으로 하여 산출한 보상책임액의 합계액이 형사합의금을 초과하는 때에는 회사는 각 계약의 보상책임액을 비례분담하여 지급하며, 비례분담액 산출방식은 다음과 같습니다. 각 계약별 비례분담액 =                           형사합의금  × 각 계약별 보상책임액각 계약별 보상책임액의 합계액제4조(준용규정)이 특별약관에서 정하지 않은 사항은 보통약관을 따릅니다.'),\n",
       " Document(metadata={'page': 153, 'source': '/Users/jaesolshin/Documents/GitHub/pg_test/data/20240401_15101_1.pdf'}, page_content='- 143 -\\n【설명】회사는 피보험자가 손해배상액의 전부 또는 일부를 피해자에게 지급하지 않아도 되는 사유가 있는 경우에는 그에 해당하는 보험금의 지급을 거절할 수 있습니다.② 회사는 제1항의 청구를 받았을 때에는 지체 없이 피보험자에게 통지하여야 하며, 회사의 요구가 있으면 계약자 및 피보험자는 필요한 서류증거의 제출, 증언 또는 증인 출석에 협조하여야 합니다.③ 피보험자가 피해자로부터 손해배상의 청구를 받았을 경우에 회사가 필요하다고 인정할 때에는 피보험자를 대신하여 회사의 비용으로 이를 해결할 수 있습니다. 이 경우 회사의 요구가 있으면 계약자 및 피보험자는 이에 협력하여야 합니다.④ 계약자 및 피보험자가 정당한 이유 없이 제2항, 제3항의 요구에 협조하지 않은 때에는 회사는 그로 인해 늘어난 손해는 보상하여 드리지 않습니다.제12조(합의·절충·중재·소송의 협조·대행 등) ① 회사는 피보험자의 법률상 손해배상책임을 확정하기 위하여 피보험자가 피해자와 행하는 합의·절충·중재 또는 소송(확인의 소를 포함합니다)에 대하여 협조하거나, 피보험자를 위하여 이러한 절차를 대행할 수 있습니다.② 회사는 피보험자에 대하여 보상책임을 지는 한도 내에서 제1항의 절차에 협조하거나 대행합니다.【보상책임을 지는 한도】동일한 사고로 이미 지급한 보험금이나 가지급보험금이 있는 경우에는 그 금액을 공제한 액수를 말합니다.③ 회사가 제1항의 절차에 협조하거나 대행하는 경우에는 피보험자는 회사의 요청에 따라 협력해야 하며, 피보험자가 정당한 이유없이 협력하지 않는 경우에는 그로 말미암아 늘어난 손해에 대해서 보상하지 않습니다.④ 회사는 다음의 경우에는 제1항의 절차를 대행하지 않습니다. 1. 피보험자가 피해자에 대하여 부담하는 법률상의 손해배상책임액이 보험증권에 기재된 보험가입금액을 명백하게 초과하는 때 2. 피보험자가 정당한 이유없이 협력하지 않는 때⑤ 회사가 제1항의 절차를 대행하는 경우에는, 피보험자에 대하여 보상책임을 지는 한도 내에서, 가압류나 가집행을 면하기 위한 공탁금을 피보험자에게 대부할 수 있으며 이에 소요되는 비용을 보상합니다. 이 경우 대부금의 이자는 공탁금에 붙여지는 것과 같은 이율로 하며, 피보험자는 공탁금(이자를 포함합니다)의 회수청구권을 회사에 양도하여야 합니다.제13조(대위권)① 회사가 보험금을 지급한 때(현물보상한 경우를 포함합니다)에는 회사는 지급한 보험금의 한도내에서 아래의 권리를 가집니다. 다만, 회사가 보상한 금액이 피보험자가 입은 손해의 일부인 경우에는 피보험자의 권리를 침해하지 않는 범위내에서 그 권리를 가집니다. 1. 피보험자가 제3자로부터 손해배상을 받을 수 있는 경우에는 그 손해배상청구권 2. 피보험자가 손해배상을 함으로써 대위 취득하는 것이 있을 경우에는 그 대위권② 계약자 또는 피보험자는 제1항에 의하여 회사가 취득한 권리를 행사하거나 지키는 것에  관하여 필요한 조치를 하여야 하며, 또한 회사가 요구하는 증거 및 서류를 제출하여야 합니다.③ 회사는 제1항, 제2항에도 불구하고 타인을 위한 보험계약의 경우에는 계약자에 대한 대위권을 포기합니다.④ 회사는 제1항에 따른 권리가 계약자 또는 피보험자와 생계를 같이 하는 가족에 대한 것인 경우에는 그 권리를 취득하지 못합니다. 다만, 손해가 그 가족의 고의로 인하여 발생한 경우에는 그 권리를 취득합니다.제14조(계약 전 알릴 의무)')]"
      ]
     },
     "execution_count": 4,
     "metadata": {},
     "output_type": "execute_result"
    }
   ],
   "source": [
    "retriever.get_relevant_documents(\"보험금 지급사유\")"
   ]
  },
  {
   "cell_type": "markdown",
   "metadata": {},
   "source": [
    "### 프롬프트 템플릿"
   ]
  },
  {
   "cell_type": "code",
   "execution_count": 5,
   "metadata": {},
   "outputs": [
    {
     "name": "stderr",
     "output_type": "stream",
     "text": [
      "/Users/jaesolshin/Documents/GitHub/pgvector-python/venv/lib/python3.12/site-packages/langsmith/client.py:261: LangSmithMissingAPIKeyWarning: API key must be provided when using hosted LangSmith API\n",
      "  warnings.warn(\n"
     ]
    },
    {
     "name": "stdout",
     "output_type": "stream",
     "text": [
      "input_variables=['context', 'question'] input_types={} partial_variables={} metadata={'lc_hub_owner': 'rlm', 'lc_hub_repo': 'rag-prompt', 'lc_hub_commit_hash': '50442af133e61576e74536c6556cefe1fac147cad032f4377b60c436e6cdcb6e'} messages=[HumanMessagePromptTemplate(prompt=PromptTemplate(input_variables=['context', 'question'], input_types={}, partial_variables={}, template=\"You are an assistant for question-answering tasks. Use the following pieces of retrieved context to answer the question. If you don't know the answer, just say that you don't know. Use three sentences maximum and keep the answer concise.\\nQuestion: {question} \\nContext: {context} \\nAnswer:\"), additional_kwargs={})]\n"
     ]
    }
   ],
   "source": [
    "# langchain hub 에서 Prompt 다운로드 예시\n",
    "# https://smith.langchain.com/hub/rlm/rag-prompt\n",
    "\n",
    "from langchain import hub\n",
    "\n",
    "rag_prompt = hub.pull(\"rlm/rag-prompt\")\n",
    "print(rag_prompt)"
   ]
  },
  {
   "cell_type": "markdown",
   "metadata": {},
   "source": [
    "### 제네레이터"
   ]
  },
  {
   "cell_type": "code",
   "execution_count": 6,
   "metadata": {},
   "outputs": [
    {
     "name": "stderr",
     "output_type": "stream",
     "text": [
      "/var/folders/hw/9m3g7fvn4_l3rp2y473km9sm0000gn/T/ipykernel_5859/670865594.py:5: LangChainDeprecationWarning: The class `ChatOpenAI` was deprecated in LangChain 0.0.10 and will be removed in 1.0. An updated version of the class exists in the :class:`~langchain-openai package and should be used instead. To use it run `pip install -U :class:`~langchain-openai` and import as `from :class:`~langchain_openai import ChatOpenAI``.\n",
      "  llm = ChatOpenAI(model_name=\"gpt-4o\", temperature=0)\n"
     ]
    }
   ],
   "source": [
    "# LLM\n",
    "from langchain.chat_models import ChatOpenAI\n",
    "\n",
    "# ChatGPT 모델 지정\n",
    "llm = ChatOpenAI(model_name=\"gpt-4o\", temperature=0)"
   ]
  },
  {
   "cell_type": "code",
   "execution_count": 7,
   "metadata": {},
   "outputs": [],
   "source": [
    "# RAG chain 생성\n",
    "from langchain.schema.runnable import RunnablePassthrough\n",
    "\n",
    "# pipe operator를 활용한 체인 생성\n",
    "rag_chain = (\n",
    "    {\"context\": retriever, \"question\": RunnablePassthrough()} \n",
    "    | rag_prompt \n",
    "    | llm \n",
    ")"
   ]
  },
  {
   "cell_type": "markdown",
   "metadata": {},
   "source": [
    "### 테스트"
   ]
  },
  {
   "cell_type": "code",
   "execution_count": 8,
   "metadata": {},
   "outputs": [
    {
     "data": {
      "text/plain": [
       "'보험금의 지급사유는 보험계약에서 정한 특정 조건이 충족될 때 발생합니다. 예를 들어, 피보험자가 사고로 인해 손해를 입었을 때 보험금 지급이 이루어질 수 있습니다. 구체적인 지급사유는 보험계약의 약관에 명시되어 있습니다.'"
      ]
     },
     "execution_count": 8,
     "metadata": {},
     "output_type": "execute_result"
    }
   ],
   "source": [
    "rag_chain.invoke(\"보험금의 지급사유를 알려 줘\").content"
   ]
  },
  {
   "cell_type": "code",
   "execution_count": 9,
   "metadata": {},
   "outputs": [
    {
     "data": {
      "text/plain": [
       "\"I don't know.\""
      ]
     },
     "execution_count": 9,
     "metadata": {},
     "output_type": "execute_result"
    }
   ],
   "source": [
    "rag_chain.invoke(\"오늘 점심 메뉴는?\").content"
   ]
  }
 ],
 "metadata": {
  "kernelspec": {
   "display_name": "venv",
   "language": "python",
   "name": "python3"
  },
  "language_info": {
   "codemirror_mode": {
    "name": "ipython",
    "version": 3
   },
   "file_extension": ".py",
   "mimetype": "text/x-python",
   "name": "python",
   "nbconvert_exporter": "python",
   "pygments_lexer": "ipython3",
   "version": "3.12.4"
  }
 },
 "nbformat": 4,
 "nbformat_minor": 2
}
