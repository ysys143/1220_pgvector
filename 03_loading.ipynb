{
 "cells": [
  {
   "cell_type": "markdown",
   "metadata": {},
   "source": [
    "## text embedding"
   ]
  },
  {
   "cell_type": "code",
   "execution_count": 19,
   "metadata": {},
   "outputs": [
    {
     "name": "stderr",
     "output_type": "stream",
     "text": [
      "100%|██████████| 1000/1000 [07:34<00:00,  2.20it/s]\n"
     ]
    }
   ],
   "source": [
    "import pandas as pd\n",
    "import os\n",
    "from time import time\n",
    "from tqdm import tqdm\n",
    "import psycopg2\n",
    "from langchain_openai import OpenAIEmbeddings\n",
    "\n",
    "# 결과 조회용 함수\n",
    "def show(rows):\n",
    "    for row in rows:\n",
    "        print(row)\n",
    "\n",
    "# OpenAI API Key 설정\n",
    "os.environ['OPENAI_API_KEY'] = open('API_KEY', 'r').read()\n",
    "embeddings = OpenAIEmbeddings(model=\"text-embedding-3-small\")\n",
    "\n",
    "# 데이터 로드 및 전처리\n",
    "imdb = pd.read_csv('movie_metadata.csv')\n",
    "imdb = imdb.dropna()\n",
    "texts = imdb['plot_keywords'][:1000].tolist()\n",
    "\n",
    "# 임베딩 생성 및 저장\n",
    "embeddings_list = []\n",
    "for text in tqdm(texts):\n",
    "    embeddings_list.append(embeddings.embed_query(text))\n",
    "\n",
    "# 임베딩 차원 확인\n",
    "emb_dim = len(embeddings_list[0])\n",
    "print(emb_dim)\n",
    "\n",
    "# 임베딩 파일을 임시 CSV로 저장\n",
    "import csv\n",
    "filename = \"imdb_embedding.csv\"\n",
    "with open(filename, \"w\", newline=\"\") as csvfile:\n",
    "    writer = csv.writer(csvfile)\n",
    "    writer.writerow([\"keywords\", \"embedding\"])\n",
    "    for i in range(len(embeddings_list)):\n",
    "        writer.writerow([texts[i], embeddings_list[i]])"
   ]
  },
  {
   "cell_type": "code",
   "execution_count": 20,
   "metadata": {},
   "outputs": [
    {
     "name": "stdout",
     "output_type": "stream",
     "text": [
      "Data successfully loaded into PostgreSQL using COPY.\n"
     ]
    }
   ],
   "source": [
    "# PostgreSQL 연결\n",
    "conn_config = {'host': 'localhost', 'dbname': 'my_vec_db', 'user': 'jaesolshin', 'port': 5432}\n",
    "conn = psycopg2.connect(**conn_config)\n",
    "cursor = conn.cursor()\n",
    "\n",
    "# 테이블 생성\n",
    "cursor.execute(\"DROP TABLE IF EXISTS imdb;\")\n",
    "cursor.execute(\"CREATE TABLE IF NOT EXISTS imdb (id serial primary key, keywords text, embedding vector(%s));\" % emb_dim)\n",
    "conn.commit()\n",
    "\n",
    "# 커밋 및 연결 종료\n",
    "conn.close()\n",
    "\n",
    "print(\"Data successfully loaded into PostgreSQL using COPY.\")"
   ]
  },
  {
   "cell_type": "code",
   "execution_count": 27,
   "metadata": {},
   "outputs": [
    {
     "name": "stdout",
     "output_type": "stream",
     "text": [
      "COPY 1000\n",
      "Data successfully loaded into PostgreSQL using \\COPY.\n"
     ]
    }
   ],
   "source": [
    "# shell에서 psql 실행하여 \\COPY 명령 실행\n",
    "import subprocess\n",
    "\n",
    "# 환경 변수에 패스워드 설정\n",
    "os.environ[\"PGPASSWORD\"] = \"postgres1016\" \n",
    "\n",
    "# 업로드할 파일 위치\n",
    "csv_path = os.path.join(os.getcwd(), \"imdb_embedding.csv\") \n",
    "\n",
    "# COPY 명령어를 사용하여 데이터 로드\n",
    "copy_command = (\n",
    "    f\"psql -h {conn_config['host']} -p {conn_config['port']} -d {conn_config['dbname']} -U {conn_config['user']} -c \"\n",
    "    f\"\\\"\\\\COPY imdb (keywords, embedding) FROM '{csv_path}' WITH (FORMAT CSV, HEADER TRUE);\\\"\"\n",
    ")\n",
    "subprocess.run(copy_command, shell=True, check=True)\n",
    "\n",
    "print(\"Data successfully loaded into PostgreSQL using \\\\COPY.\")"
   ]
  },
  {
   "cell_type": "code",
   "execution_count": 28,
   "metadata": {},
   "outputs": [
    {
     "name": "stdout",
     "output_type": "stream",
     "text": [
      "time: 0.0241241455078125 \n",
      "\n",
      "(11, 'avatar|future|marine|native|paraplegic', 0.7837149072848963)\n",
      "(1, 'avatar|future|marine|native|paraplegic', 0.7837149072848963)\n",
      "(313, 'alien|cyborg|pirate|planet|treasure', 0.9300232609536802)\n",
      "(115, 'alternate timeline|cyborg|future|robot|time machine', 0.9371269119485395)\n",
      "(673, 'betrayal|futuristic|gladiator|robot|scientist', 0.9467197693842733)\n"
     ]
    }
   ],
   "source": [
    "# PG에 연결\n",
    "conn = psycopg2.connect(host='localhost', dbname='my_vec_db',user='jaesolshin',port=5432)\n",
    "cursor = conn.cursor()\n",
    "\n",
    "\n",
    "# 검색할 문자열\n",
    "test_words = \"cyberpunk|dystopia|paraplegic|marine|warrior\"  # 검색할 문자열\n",
    "test_vec = embeddings.embed_query(test_words)\n",
    "emb_dim = len(test_vec)\n",
    "k = 5  # 상위 5개 유사 벡터 검색\n",
    "\n",
    "\n",
    "# 유사도 기반 검색\n",
    "# <-> : L2거리\n",
    "s = time()\n",
    "cursor.execute(\"\"\"\n",
    "    SELECT id,\n",
    "        keywords,\n",
    "        embedding <-> '{}' AS similarity\n",
    "    FROM imdb2\n",
    "    ORDER BY similarity\n",
    "    LIMIT 5\n",
    "\"\"\".format(test_vec))\n",
    "\n",
    "time_spent = time() - s\n",
    "print(\"time:\", time_spent, \"\\n\")\n",
    "\n",
    "result = cursor.fetchall()\n",
    "show(result)\n",
    "\n",
    "# PG에 커밋\n",
    "conn.commit()\n",
    "conn.close()"
   ]
  }
 ],
 "metadata": {
  "kernelspec": {
   "display_name": "venv",
   "language": "python",
   "name": "python3"
  },
  "language_info": {
   "codemirror_mode": {
    "name": "ipython",
    "version": 3
   },
   "file_extension": ".py",
   "mimetype": "text/x-python",
   "name": "python",
   "nbconvert_exporter": "python",
   "pygments_lexer": "ipython3",
   "version": "3.12.4"
  }
 },
 "nbformat": 4,
 "nbformat_minor": 2
}
